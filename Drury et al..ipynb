{
 "cells": [
  {
   "cell_type": "markdown",
   "metadata": {},
   "source": [
    "This notebook summarizes and implements results from [Constructive quantum Shannon decomposition from Cartan involutions](https://iopscience.iop.org/article/10.1088/1751-8113/41/39/395305/pdf) by Byron Drury and Peter Love. There are four sections: "
   ]
  },
  {
   "cell_type": "markdown",
   "metadata": {},
   "source": [
    "### 1. Background"
   ]
  },
  {
   "cell_type": "markdown",
   "metadata": {},
   "source": [
    "**Definition (Lie algebra):** A **Lie algebra** $A$ is a vector space with an additional operation called a Lie bracket, denoted as $[x, y]$. The Lie bracket is an alternative bilinear map $A \\times A \\to A$ that satisfies the Jacobi identity, i.e for $x, y, z \\in A$,\n",
    "\n",
    "$$[x, [y, z]] + [y, [z, x]] + [z, [x, y]] = 0$$\n",
    "\n"
   ]
  },
  {
   "cell_type": "markdown",
   "metadata": {},
   "source": [
    "**Definition (Lie Bracket for matrix algebra):** For matrix $a, b$, the **Lie bracket** is the commutator\n",
    "\n",
    "$$[a, b] = ab-ba$$"
   ]
  },
  {
   "cell_type": "markdown",
   "metadata": {},
   "source": [
    "**Definition (Derived algebra):** The **derived algebra** of $A$, denoted $[AA]$, is the linear combinations of all brackets $[x, y]$ with $x, y \\in A$"
   ]
  },
  {
   "cell_type": "markdown",
   "metadata": {},
   "source": [
    "**Definition (Subalgebra):** A subspace $S \\subseteq A$ is a **subalgebra** if it is closed under the Lie bracket, i.e\n",
    "\n",
    "$$[A, A] \\subseteq A $$"
   ]
  },
  {
   "cell_type": "markdown",
   "metadata": {},
   "source": [
    "**Definition (Ideal):** Let $A$ be a Lie algebra. A subalgebra $I\\subseteq A$ is an **ideal** if \n",
    "\n",
    "$$[A, I] \\subseteq I$$"
   ]
  },
  {
   "cell_type": "markdown",
   "metadata": {},
   "source": [
    "**Definition (Non-Abelian Lie algebra):** A Lie algebra $A$ is **non-abelian** if \n",
    "\n",
    "$$[AA] \\neq 0$$"
   ]
  },
  {
   "cell_type": "markdown",
   "metadata": {},
   "source": [
    "**Definition (Simple algebra):** A non-Abelian Lie algebra $A$ in which the only ideals are $0$ and $A$ is called **simple**. Any algebra $A$ where $[AA] = A$ is simple."
   ]
  },
  {
   "cell_type": "markdown",
   "metadata": {},
   "source": [
    "**Definition (Solvable algebra):** The derived series of an algebra $A$ is defined as \n",
    "\n",
    "$$A^{(0)} = A,\\quad A^{(1)} = [AA], \\quad A^{(2)} = [A^{(1)}A^{(1)}], \\quad A^{(i)} = [A^{(i-1)}A^{(i-1)}], \\ ...$$\n",
    "\n",
    "Observe that $A^{(n+1)} \\subseteq A^n$. If $A$ is finite dimensional, then the series eventually stabilizes, that is there exists an $n$ where $A^{(m)} = A^{(n)}$ for all $m\\geq n$. If the series stabilizes to $0$, then $A$ is called **solvable**.\n",
    "\n",
    "All abelian algebras are solvable, while all simple algebras are non-solvable. "
   ]
  },
  {
   "cell_type": "markdown",
   "metadata": {},
   "source": [
    "**Definition (Radical):** Every Lie algebra contains a a unique maximal solvable ideal, referred to as the **radical** of the algebra. Maximal means that no larger solvable ideal contains it. "
   ]
  },
  {
   "cell_type": "markdown",
   "metadata": {},
   "source": [
    "**Definition (Direct sum):** Let $B, C$ be subalgebra of $A$. Then, $A$ is the direct sum of $B$ and $C$, denoted $A = B \\oplus C$, if $A = B+C$ and $B \\cap C = 0$."
   ]
  },
  {
   "cell_type": "markdown",
   "metadata": {},
   "source": [
    "**Definition (Semi-simple algebra):** A non-zero Lie algebra $A$ is **semi-simple** if Rad $A = 0$. Equivalently, $A$ can be written as direct sum of simple subalgebra, that is \n",
    "\n",
    "$$A = A_1 \\oplus ... \\oplus A_n$$"
   ]
  },
  {
   "cell_type": "markdown",
   "metadata": {},
   "source": [
    "**Definition (Real vector space):** A **real vector space** is a vector space over $\\mathbb{R}$ (scalars are strictly real)."
   ]
  },
  {
   "cell_type": "markdown",
   "metadata": {},
   "source": [
    "**Theorem (Cartan decomposition):** A **Cartan decomposition** of a real semi-simple Lie algebra $\\mathfrak g$ is a decomposition $\\mathfrak{g} = \\mathfrak{m} \\oplus \\mathfrak{k}$ where $\\mathfrak{m} = \\mathfrak{k}^\\perp$, for which $\\mathfrak{m}$ and $\\mathfrak{k}$ statisfy the commutation relations\n",
    "\n",
    "$$[\\mathfrak{k}, \\mathfrak{k}] \\subseteq \\mathfrak{k}, \\quad [\\mathfrak{m}, \\mathfrak{k}] = \\mathfrak{m}, \\quad [\\mathfrak{m}, \\mathfrak{m}] \\subseteq \\mathfrak{k}$$\n",
    "\n",
    "Since $\\mathfrak{k}$ is closed under the Lie bracket, it is a subalgebra of $\\mathfrak{g}$. Suppose $\\mathfrak{h}$ is a subalgebra of $\\mathfrak{m}$, we have $[\\mathfrak{h}, \\mathfrak{h}] \\subseteq \\mathfrak{h} \\subseteq \\mathfrak{m}$ and $ \\mathfrak{m} \\cap \\mathfrak{k} = 0$ implies that \n",
    "\n",
    "$$ [\\mathfrak{m}, \\mathfrak{m}] = 0$$\n",
    "\n",
    "Thus all subalgebra of $\\mathfrak{m}$ is abelian. The maximal subalgebra is called the Cartan subalgebra."
   ]
  },
  {
   "cell_type": "markdown",
   "metadata": {},
   "source": [
    "**Definition (Cartan involution):** "
   ]
  },
  {
   "cell_type": "markdown",
   "metadata": {},
   "source": [
    "tomorrow, write about cartan involution on lie algebra, remember to show why $\\theta$ must have both $\\pm1$ eigenvalue, \n",
    "\n",
    "- -1 because of non-identity\n",
    "- +1 because of Lie algebra automorphism to T[x, y] = [Tx, Ty]"
   ]
  },
  {
   "cell_type": "code",
   "execution_count": null,
   "metadata": {},
   "outputs": [],
   "source": []
  }
 ],
 "metadata": {
  "kernelspec": {
   "display_name": "Python 3.10",
   "language": "python",
   "name": "python3.10"
  },
  "language_info": {
   "codemirror_mode": {
    "name": "ipython",
    "version": 3
   },
   "file_extension": ".py",
   "mimetype": "text/x-python",
   "name": "python",
   "nbconvert_exporter": "python",
   "pygments_lexer": "ipython3",
   "version": "3.10.4"
  }
 },
 "nbformat": 4,
 "nbformat_minor": 2
}
