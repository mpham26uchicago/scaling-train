{
 "cells": [
  {
   "cell_type": "markdown",
   "metadata": {},
   "source": [
    "This notebook summarizes and implements results from [Constructive quantum Shannon decomposition from Cartan involutions](https://iopscience.iop.org/article/10.1088/1751-8113/41/39/395305/pdf) by Byron Drury and Peter Love. There are four sections: "
   ]
  },
  {
   "cell_type": "markdown",
   "metadata": {},
   "source": [
    "## 1. Background"
   ]
  },
  {
   "cell_type": "markdown",
   "metadata": {},
   "source": [
    "**Definition (Lie algebra):** A **Lie algebra** $A$ is a vector space with an additional operation called a Lie bracket, denoted as $[x, y]$. The Lie bracket is an alternative bilinear map $A \\times A \\to A$ that satisfies the Jacobi identity, i.e for $x, y, z \\in A$,\n",
    "\n",
    "$$[x, [y, z]] + [y, [z, x]] + [z, [x, y]] = 0$$\n",
    "\n"
   ]
  },
  {
   "cell_type": "markdown",
   "metadata": {},
   "source": [
    "**Definition (Lie Bracket for matrix algebra):** For matrix $a, b$, the **Lie bracket** is the commutator\n",
    "\n",
    "$$[a, b] = ab-ba$$"
   ]
  },
  {
   "cell_type": "markdown",
   "metadata": {},
   "source": [
    "**Definition (Derived algebra):** The **derived algebra** of $A$, denoted $[AA]$, is the linear combinations of all brackets $[x, y]$ with $x, y \\in A$"
   ]
  },
  {
   "cell_type": "markdown",
   "metadata": {},
   "source": [
    "**Definition (Subalgebra):** A subspace $S \\subseteq A$ is a **subalgebra** if it is closed under the Lie bracket, i.e\n",
    "\n",
    "$$[A, A] \\subseteq A $$"
   ]
  },
  {
   "cell_type": "markdown",
   "metadata": {},
   "source": [
    "**Definition (Ideal):** Let $A$ be a Lie algebra. A subalgebra $I\\subseteq A$ is an **ideal** if \n",
    "\n",
    "$$[A, I] \\subseteq I$$"
   ]
  },
  {
   "cell_type": "markdown",
   "metadata": {},
   "source": [
    "**Definition (Non-Abelian Lie algebra):** A Lie algebra $A$ is **non-abelian** if \n",
    "\n",
    "$$[AA] \\neq 0$$"
   ]
  },
  {
   "cell_type": "markdown",
   "metadata": {},
   "source": [
    "**Definition (Simple algebra):** A non-Abelian Lie algebra $A$ in which the only ideals are $0$ and $A$ is called **simple**. Any algebra $A$ where $[AA] = A$ is simple."
   ]
  },
  {
   "cell_type": "markdown",
   "metadata": {},
   "source": [
    "**Definition (Solvable algebra):** The derived series of an algebra $A$ is defined as \n",
    "\n",
    "$$A^{(0)} = A,\\quad A^{(1)} = [AA], \\quad A^{(2)} = [A^{(1)}A^{(1)}], \\quad A^{(i)} = [A^{(i-1)}A^{(i-1)}], \\ ...$$\n",
    "\n",
    "Observe that $A^{(n+1)} \\subseteq A^n$. If $A$ is finite dimensional, then the series eventually stabilizes, that is there exists an $n$ where $A^{(m)} = A^{(n)}$ for all $m\\geq n$. If the series stabilizes to $0$, then $A$ is called **solvable**.\n",
    "\n",
    "All abelian algebras are solvable, while all simple algebras are non-solvable. "
   ]
  },
  {
   "cell_type": "markdown",
   "metadata": {},
   "source": [
    "**Definition (Radical):** Every Lie algebra contains a a unique maximal solvable ideal, referred to as the **radical** of the algebra. Maximal means that no larger solvable ideal contains it. "
   ]
  },
  {
   "cell_type": "markdown",
   "metadata": {},
   "source": [
    "**Definition (Direct sum):** Let $B, C$ be subalgebra of $A$. Then, $A$ is the direct sum of $B$ and $C$, denoted $A = B \\oplus C$, if $A = B+C$ and $B \\cap C = 0$."
   ]
  },
  {
   "cell_type": "markdown",
   "metadata": {},
   "source": [
    "**Definition (Semi-simple algebra):** A non-zero Lie algebra $A$ is **semi-simple** if Rad $A = 0$. Equivalently, $A$ can be written as direct sum of simple subalgebra, that is \n",
    "\n",
    "$$A = A_1 \\oplus ... \\oplus A_n$$"
   ]
  },
  {
   "cell_type": "markdown",
   "metadata": {},
   "source": [
    "**Definition (Real vector space):** A **real vector space** is a vector space over $\\mathbb{R}$ (scalars are strictly real)."
   ]
  },
  {
   "cell_type": "markdown",
   "metadata": {},
   "source": [
    "**Definition (Cartan involution):** A **Cartan involution**, denoted $\\theta$, is a non-identity automorphism on the Lie algebra $\\mathfrak{g}$ such that $\\theta^2$ is the identity. It partitions $\\mathfrak{g}$ into a direct sum of eigencespaces corresponding to the $\\pm 1$ eigenvalues. So we write $\\mathfrak{g} = \\mathfrak{m} \\oplus \\mathfrak{k}$, where\n",
    "\n",
    "$$\\theta(u) = \\begin{cases} u \\quad &u \\in \\mathfrak{k} \\\\ -u \\quad &u \\in \\mathfrak{m}\\end{cases}$$\n",
    "\n",
    "These two eigenspaces must both exist because of the following:\n",
    "\n",
    "1. If only $\\mathfrak{k}$ exists, then $\\theta(u) = u$ for all $u\\in \\mathfrak{g}$, thus is $\\theta$ is the identity map.\n",
    "\n",
    "2. If only $\\mathfrak{m}$ exists, then\n",
    "\n",
    "\n",
    "$$\\begin{align}\\theta[\\mathfrak{m}, \\mathfrak{m}] &= [\\theta(\\mathfrak{m}), \\theta(\\mathfrak{m})] \\\\ &=[\\mathfrak{m}, \\mathfrak{m}] \\\\ &\\subseteq \\mathfrak{k}\\end{align}$$\n",
    "\n",
    "The second equality results from the bilinearity of the Lie bracket and the third equality shows that $[\\mathfrak{m}, \\mathfrak{m}]$ has $+1$ eigenvalue. This shows that $\\mathfrak{m}$ cannot be a subalgebra.\n",
    "\n",
    "The Cartan involution directly leads to the Cartan decomposition discussed below."
   ]
  },
  {
   "cell_type": "markdown",
   "metadata": {},
   "source": [
    "**Theorem (Cartan decomposition on Lie algebra):** A **Cartan decomposition** of a real semi-simple Lie algebra $\\mathfrak g$ is a decomposition $\\mathfrak{g} = \\mathfrak{k} \\oplus \\mathfrak{m}$ where $\\mathfrak{m} = \\mathfrak{k}^\\perp$, for which $\\mathfrak{m}$ and $\\mathfrak{k}$ statisfy the commutation relations\n",
    "\n",
    "$$[\\mathfrak{k}, \\mathfrak{k}] \\subseteq \\mathfrak{k}, \\quad [\\mathfrak{m}, \\mathfrak{k}] = \\mathfrak{m}, \\quad [\\mathfrak{m}, \\mathfrak{m}] \\subseteq \\mathfrak{k}$$\n",
    "\n",
    "Since $\\mathfrak{k}$ is closed under the Lie bracket, it is a subalgebra of $\\mathfrak{g}$. Suppose $\\mathfrak{h}$ is a subalgebra of $\\mathfrak{m}$, we have $[\\mathfrak{h}, \\mathfrak{h}] \\subseteq \\mathfrak{h} \\subseteq \\mathfrak{m}$ and $ \\mathfrak{m} \\cap \\mathfrak{k} = 0$ implies that \n",
    "\n",
    "$$ [\\mathfrak{m}, \\mathfrak{m}] = 0$$\n",
    "\n",
    "Thus all subalgebra of $\\mathfrak{m}$ is abelian. The maximal subalgebra is called the Cartan subalgebra."
   ]
  },
  {
   "cell_type": "markdown",
   "metadata": {},
   "source": [
    "**Definition (Adjoint action):** The Lie group $G$ acts on its Lie algebra $\\mathfrak{g}$ through a conjugation, known as the **adjoint action**, $Ad_G: \\mathfrak{g} \\to \\mathfrak{g}$ defined by \n",
    "\n",
    "$$Ad_u(X) = u^\\dagger X u$$\n",
    "\n",
    "for $u \\in G$ and $X \\in \\mathfrak{g}$."
   ]
  },
  {
   "cell_type": "markdown",
   "metadata": {},
   "source": [
    "**Definition (Adjoint orbit):** For $K = \\exp(\\mathfrak{k})$, the **adjoint orbit** of X is defined to be\n",
    "\n",
    "$$Ad_K X = \\bigcup_{k\\in K} Ad_k X$$"
   ]
  },
  {
   "cell_type": "markdown",
   "metadata": {},
   "source": [
    "**Theorem ($\\mathfrak{h}$-adjoint theorem):** For any two maximal Abelian subalgebras $\\mathfrak{h}$ and $\\mathfrak{h}^\\prime$ in $\\mathfrak{m}$, there is an element $k\\in K$ such that $Ad_k(\\mathfrak{h}) = \\mathfrak{h}^\\prime$. Furthermore, the adjoint orbit of $\\mathfrak{h}$ is equal to $\\mathfrak{m}$, i.e.\n",
    "\n",
    "$$\\mathfrak{m} = \\bigcup_{k\\in K} Ad_k \\mathfrak{h}$$\n",
    "\n",
    "($\\subseteq$) All elements of $\\mathfrak{m}$ is in a maximal Abelian subalgebra of $\\mathfrak{m}$\n",
    "\n",
    "($\\supseteq$) All subalgebra adjoint to one a maximal Abelian subalgebra of $\\mathfrak{m}$ is included in $\\mathfrak{m}$"
   ]
  },
  {
   "cell_type": "markdown",
   "metadata": {},
   "source": [
    "**Theorem (Global Cartan decomposition):** For a semi-simple Lie algebra $\\mathfrak{g}$ with Cartan decomposition $\\mathfrak{g} = \\mathfrak{k} \\oplus \\mathfrak{m}$ and a Cartan subalgebra $\\mathfrak{m}$, let $A = \\exp(\\mathfrak{h})$ and $K = \\exp(\\mathfrak{k})$, then \n",
    "\n",
    "$$G=K A K$$\n",
    "\n",
    "is called the global Cartan decomposition of the Lie group $G = \\exp(\\mathfrak{g})$.\n",
    "\n",
    "**Proof.** Taking the exponential map of the Cartan decomposition, we have\n",
    "\n",
    "\\begin{align}G &= \\exp(\\mathfrak{g}) \\\\ &= \\exp(\\mathfrak{m} \\oplus \\mathfrak{k}) \\\\ &= \\exp(\\mathfrak{m})\\exp(\\mathfrak{k}) \\\\ &= KM\\end{align}\n",
    "\n",
    "Let $\\mathfrak{h}$ be a maximal abelian subalgebra of $\\mathfrak{m}$. By the adjoint orbit theorem, \n",
    "\n",
    "\\begin{align} \\exp(\\mathfrak{m}) &= \\bigcup_{k\\in K} \\exp(k^\\dagger \\mathfrak{h} k) \\\\ &= \\bigcup_{k\\in K}  k^\\dagger \\exp(\\mathfrak{m}) k \\\\ &= K^\\dagger A K \\end{align}\n",
    "\n",
    "\n",
    "Since $\\mathfrak{k}$ is a subspace, $K$ is closed under multiplication. Substituting into the original decomposition\n",
    "\n",
    "\\begin{align} G &= KM \\\\ &= K(K^\\dagger A K) \\\\ &= KAK \\quad\\quad\\quad\\quad\\square\\end{align}  \n",
    "\n"
   ]
  },
  {
   "cell_type": "markdown",
   "metadata": {},
   "source": [
    "**Definition (Global Cartan involution):** The **global Cartan involution** $\\Theta$ has the following properties on the Lie group $G = \\exp(\\mathfrak{g})$\n",
    "\n",
    "$$\\Theta(U) = \\begin{cases}U \\quad &U \\in \\exp(\\mathfrak{k}) \\\\ U^\\dagger \\quad &U \\in \\exp(\\mathfrak{m}) \\end{cases}$$\n",
    "\n",
    "For unitary group, whose elements satisfy the condition $U^{-1} = U^\\dagger$, the global Cartan involution is given by\n",
    "\n",
    "$$\\Theta(\\exp(\\mathfrak{g})) = \\exp(\\theta(\\mathfrak{g}))$$\n",
    "\n",
    "In the case of $\\mathfrak{su}(n)$, there are only three classes of Cartan decomposition, denoted **AI**, **AII**, **AIII**. The $\\mathfrak{k}$ subalgebras of $\\mathfrak{su}(n)$ are isomorphic to $\\mathfrak{so}(n)$, $\\mathfrak{sp}(\\frac{n}{2})$ and $\\mathfrak{s}[\\mathfrak{u}(p) + \\mathfrak{u}(q)]$ for any $p+q=n$ ($n$ even) for **AI**, **AII**, **AIII** decompositions, respectively."
   ]
  },
  {
   "cell_type": "markdown",
   "metadata": {},
   "source": [
    "**Remark ($\\mathfrak{k}$-subalgebra of $\\mathfrak{su}(n)$):** \n",
    "\n",
    "| Cartan Type | $\\mathfrak{k}$-Subalgebra | Properties | $K$-Subgroup | Properties | Dimension |\n",
    "| :- | :- | :- | :- | :- | :- |\n",
    "| **AI** | $\\mathfrak{so}(n)$ | Real Skew-Symmetric | $SO(n)$ | Special Orthogonal | $\\frac{n(n-1)}{2}$ |\n",
    "| **AII** | $\\mathfrak{sp}\\big(\\frac{n}{2}\\big)$ | ... | $Sp\\big(\\frac{n}{2}\\big)$ | Sympletic | ... |\n",
    "| **AIII** | $\\mathfrak{s}[\\mathfrak{u}(p)$$\\oplus\\mathfrak{u}(q)]$ | Traceless Block Skew-Hermitian | $S[U(p)$$\\oplus$$U(q)]$ | Special Block Unitary | $p^2$$+ q^2$$- 1$ |\n",
    "| **A*** | $\\mathfrak{su}(n)$ | Complex Traceless Skew-Hermitian | $SU(n)$ | Special Unitary | $n^2-1$ |"
   ]
  },
  {
   "cell_type": "markdown",
   "metadata": {},
   "source": [
    "**Theorem ($M$-factoring theorem):** For any $U \\in SU(2^n)$, with the Cartan decomposition $U = KM$, $M^2$ is uniquely determined by\n",
    "\n",
    "$$M^2 = \\Theta(U^\\dagger)U$$\n",
    "\n",
    "**Proof.**\n",
    "\n",
    "\\begin{align}\\Theta(G^\\dagger)G &= \\Theta(M^\\dagger K^\\dagger)KM \\\\ &= \\Theta (M^\\dagger) \\Theta(K^\\dagger) KM \\\\ &= (MK^\\dagger)K M \\\\ &= M^2\\quad\\quad\\quad\\quad\\square\\end{align}"
   ]
  },
  {
   "cell_type": "markdown",
   "metadata": {},
   "source": [
    "## 2. Single-Qubit Unitary (Euler angle decomposition)"
   ]
  },
  {
   "cell_type": "markdown",
   "metadata": {},
   "source": [
    "The Lie algebra $\\mathfrak{su}(2)$ is given by\n",
    "\n",
    "$$\\mathfrak{su}(2) = \\text{span}_\\mathbb{R}i\\{X, Y, Z\\}$$\n",
    "\n",
    "For choice of Cartan involution, we have a different Cartan decomposition."
   ]
  },
  {
   "cell_type": "markdown",
   "metadata": {},
   "source": [
    "### Type AI"
   ]
  },
  {
   "cell_type": "markdown",
   "metadata": {},
   "source": [
    "For $u \\in \\mathfrak{su}(2)$, type **AI** Cartan involution is given by \n",
    "\n",
    "$$\\theta(u) = -u^T$$\n",
    "\n",
    "Applied $\\theta$ on each of the basis, we get the Cartan decomposition\n",
    "\n",
    "$$\\mathfrak{k} = \\text{span}_\\mathbb{R} i \\{Y\\}, \\quad \\mathfrak{m} = \\text{span}_\\mathbb{R} i\\{X, Z\\} $$\n",
    "\n",
    "Furthermore, each of $\\text{span}_\\mathbb{R} i \\{X\\}$ and $\\text{span}_\\mathbb{R} i \\{Y\\}$ is a maximal abelian subalgebra of $\\mathfrak{su}(2)$ contained in $\\mathfrak{m}$. They are related through the adjoint action.\n",
    "\n",
    "$$\\text{span}_\\mathbb{R} i \\{Z\\} = e^{i\\frac{\\pi}{4}Y} \\cdot \\text{span}_\\mathbb{R} i \\{X\\} \\cdot e^{-i\\frac{\\pi}{4}Y} $$\n",
    "\n",
    "We choose $\\mathfrak{h} = \\text{span}_\\mathbb{R} i \\{Z\\}$\n",
    "\n",
    "Taking the exponential, we get type **AI** global Cartan involution\n",
    "\n",
    "\\begin{align}\\Theta(U) &= \\exp(\\theta(u)) \\\\ &= \\exp(-u^T) \\\\ &= (U^\\dagger)^T \\\\ &= U^\\ast \\end{align}"
   ]
  },
  {
   "cell_type": "markdown",
   "metadata": {
    "heading_collapsed": true
   },
   "source": [
    "### Type AIII"
   ]
  },
  {
   "cell_type": "markdown",
   "metadata": {
    "hidden": true
   },
   "source": [
    "For $u \\in \\mathfrak{su}(2)$, type **AIII** Cartan involution is given by \n",
    "\n",
    "$$\\theta(u) = YuY$$\n",
    "\n",
    "Applied $\\theta$ on each of the basis, we get the same Cartan decomposition (as above)\n",
    "\n",
    "Taking the exponential, we get type **AIII** global Cartan involution\n",
    "\n",
    "$$\\Theta(U) = YUY$$"
   ]
  },
  {
   "cell_type": "markdown",
   "metadata": {},
   "source": [
    "### Procedure"
   ]
  },
  {
   "cell_type": "markdown",
   "metadata": {},
   "source": [
    "**Step 1.** We use $M$-factoring theorem to calculate $\\Theta(U^\\dagger)U = M^2 $"
   ]
  },
  {
   "cell_type": "markdown",
   "metadata": {},
   "source": [
    "**Step 2.** Diagonalize $M^2 = PDP^\\dagger$. Since $D$ is diagonal, $D$ must be of the form $e^{i\\alpha Z}$, that is $D \\in \\exp(\\mathfrak{h})$. Furthermore, by $\\mathfrak{h}$-adjoint theorem, $P \\in \\exp(\\mathfrak{k})$."
   ]
  },
  {
   "cell_type": "markdown",
   "metadata": {},
   "source": [
    "**Step 3.** We have $M = PD^{1/2}P^\\dagger$, thus $A = D^{1/2}$ and $K_2 = P^\\dagger$. So \n",
    "\n",
    "$$U = K_1 M = K_1 (K_2^\\dagger A K_2)$$\n",
    "\n",
    "Then $K_1 = UM^\\dagger$."
   ]
  },
  {
   "cell_type": "markdown",
   "metadata": {},
   "source": [
    "**Step 4.** This constitutes a complete decomposition of $U$ into the form $e^{iAY}e^{iBZ}e^{iCY}$ where $U = KPD^{1/2}P^\\dagger$, and we can extract the angles $A$, $B$ and $C$ from the matrix forms of these operators."
   ]
  },
  {
   "cell_type": "code",
   "execution_count": 10,
   "metadata": {},
   "outputs": [],
   "source": [
    "import numpy as np\n",
    "from scipy.stats import unitary_group"
   ]
  },
  {
   "cell_type": "markdown",
   "metadata": {},
   "source": [
    "We can generate a random element $U \\in U(2)$ but we want it to be unimodular. \n",
    "\n",
    "So we let $U^\\prime = aU$. To find $a$, note that \n",
    "\n",
    "$$\\det(aU) = a^m det(U)$$\n",
    "\n",
    "where $m = \\dim(U)$. We want that $a^m = \\frac{1}{\\det(U)}$. So $a = \\det(U)^{-\\frac{1}{m}}$."
   ]
  },
  {
   "cell_type": "code",
   "execution_count": 19,
   "metadata": {},
   "outputs": [],
   "source": [
    "#Generate Random SU(2)\n",
    "U = unitary_group.rvs(2)\n",
    "U /= np.sqrt(np.linalg.det(U)) #Normalize the determinant"
   ]
  },
  {
   "cell_type": "code",
   "execution_count": 21,
   "metadata": {},
   "outputs": [],
   "source": [
    "# Define Type AI Global Cartan involution\n",
    "AI_Theta = lambda U: np.conj(U)"
   ]
  },
  {
   "cell_type": "code",
   "execution_count": null,
   "metadata": {},
   "outputs": [],
   "source": [
    "#Step 1: Theta(Udagger)U = M^2\n",
    "M_squared = AI_Theta(np.conj(U).T)@U"
   ]
  },
  {
   "cell_type": "code",
   "execution_count": 25,
   "metadata": {},
   "outputs": [],
   "source": [
    "#Step 2: Diagonalize M^2\n",
    "D, P = np.linalg.eig(M_squared)"
   ]
  },
  {
   "cell_type": "code",
   "execution_count": null,
   "metadata": {},
   "outputs": [],
   "source": [
    "#Step 3: A = sqrt(D), K2 = Pdagger\n"
   ]
  },
  {
   "cell_type": "code",
   "execution_count": 24,
   "metadata": {},
   "outputs": [
    {
     "data": {
      "text/plain": [
       "array([[-6.77721175e-01-0.6705429j ,  5.65334069e-17+0.30177182j],\n",
       "       [ 5.65334069e-17+0.30177182j, -6.77721175e-01+0.6705429j ]])"
      ]
     },
     "execution_count": 24,
     "metadata": {},
     "output_type": "execute_result"
    }
   ],
   "source": [
    "M_squared"
   ]
  },
  {
   "cell_type": "markdown",
   "metadata": {
    "heading_collapsed": true
   },
   "source": [
    "### Something to close"
   ]
  },
  {
   "cell_type": "markdown",
   "metadata": {
    "hidden": true
   },
   "source": [
    "**Remark:** Observe that for type **AII** decomposition, we could have chosen a different involution $\\theta$, say $\\theta(u) = XuX$ or $\\theta(u) = ZuZ$. In total, we can have up to $6$ different decomposition for our choice of basis for $\\mathfrak{su}(2)$. Each of the Pauli basis is related to another by the following adjoint action\n",
    "\n",
    "\\begin{align}\n",
    "e^{i\\frac{\\pi}{4}Y}: &X \\to Z \\\\ \n",
    "e^{i\\frac{\\pi}{4}Z}: &Y \\to X \\\\ \n",
    "e^{i\\frac{\\pi}{4}X}: &Z \\to Y \\\\ \n",
    "\\end{align}\n",
    "\n",
    "Because of this, we can generalize the $YZY$ decomposition to all Pauli basis. For example, suppose we want to decompose $U$ into $XYX$, we can decompose $U^\\prime$ in the $YZY$ basis, where \n",
    "\n",
    "$$U^\\prime = e^{-i\\frac{\\pi}{4}Z}e^{-i\\frac{\\pi}{4}X} \\cdot U \\cdot e^{i\\frac{\\pi}{4}X}e^{i\\frac{\\pi}{4}Z}$$\n",
    "\n",
    "Then\n",
    "\n",
    "\\begin{align}\n",
    "e^{-i\\frac{\\pi}{4}Z}e^{-i\\frac{\\pi}{4}X} \\cdot U \\cdot e^{i\\frac{\\pi}{4}X}e^{i\\frac{\\pi}{4}Z} &= YZY\\end{align}\n",
    "\n",
    "So\n",
    "\n",
    "\\begin{align}\n",
    "e^{-i\\frac{\\pi}{4}X} \\cdot U \\cdot e^{i\\frac{\\pi}{4}X} &= e^{i\\frac{\\pi}{4}Z}YZYe^{-i\\frac{\\pi}{4}Z} \\\\ &=\n",
    "XZX\n",
    "\\end{align}\n",
    "\n",
    "Thus\n",
    "\n",
    "\\begin{align} U &= e^{i\\frac{\\pi}{4}X}XZXe^{-i\\frac{\\pi}{4}X} \\\\ &= XYX \\end{align}"
   ]
  },
  {
   "cell_type": "code",
   "execution_count": null,
   "metadata": {
    "hidden": true
   },
   "outputs": [],
   "source": []
  }
 ],
 "metadata": {
  "kernelspec": {
   "display_name": "Python 3.10",
   "language": "python",
   "name": "python3.10"
  },
  "language_info": {
   "codemirror_mode": {
    "name": "ipython",
    "version": 3
   },
   "file_extension": ".py",
   "mimetype": "text/x-python",
   "name": "python",
   "nbconvert_exporter": "python",
   "pygments_lexer": "ipython3",
   "version": "3.10.4"
  }
 },
 "nbformat": 4,
 "nbformat_minor": 2
}
