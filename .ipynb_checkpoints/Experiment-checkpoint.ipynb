{
 "cells": [
  {
   "cell_type": "markdown",
   "metadata": {},
   "source": [
    "### Matrix exponential of tensor product"
   ]
  },
  {
   "cell_type": "markdown",
   "metadata": {},
   "source": [
    "Let $A, B$ be two diagonalizable matrices. This means that \n",
    "\n",
    "\\begin{align}\n",
    "A = P_A D_A P_A^{-1}, \\quad B = P_B D_B P_B^{-1}\n",
    "\\end{align}\n",
    "\n",
    "for invertible $P_A, P_B$ and diagonal $D_A, D_B$.\n",
    "\n",
    "Then\n",
    "\n",
    "\\begin{align}\n",
    "e^{A\\otimes B}\n",
    "&= \\sum_{k=0}^{\\infty} \\frac{(A\\otimes B)^k}{k!} \\\\ \n",
    "&= (P_A \\otimes P_B)\\bigg[\\sum_{k=0}^{\\infty} \\frac{(D_A\\otimes D_B)^k}{k!} \\bigg] (P_A\\otimes P_B)^{-1} \\\\\n",
    "&= (P_A \\otimes P_B)\\bigg[\\sum_{k=0}^{\\infty} \\frac{D_A^k\\otimes D_B^k}{k!} \\bigg] (P_A\\otimes P_B)^{-1}\n",
    "\\end{align}\n",
    "\n",
    "Now, we focus on the sum of diagonals\n",
    "\n",
    "\\begin{align}\n",
    "\\sum_{k=0}^{\\infty} \\frac{D_A^k\\otimes D_B^k}{k!}\n",
    "&= \\sum_{k=0}^{\\infty} \\frac{1}{k!} \\begin{pmatrix}\n",
    "D_{A1}^k\\cdot D_B^K & & \\\\\n",
    "& \\ddots & \\\\\n",
    "& & D_{An}^k\\cdot D_B^K\n",
    "\\end{pmatrix} \\\\\n",
    "&= \\begin{pmatrix}\n",
    "\\sum_{k=0}^\\infty \\frac{1}{k!}(D_{A1}^k\\cdot D_B^k) & & \\\\\n",
    "& \\ddots & \\\\\n",
    "& & \\sum_{k=0}^\\infty \\frac{1}{k!}(D_{An}^k\\cdot D_B^k)\n",
    "\\end{pmatrix} \\\\\n",
    "&= \\begin{pmatrix}\n",
    "e^{D_{A1}\\cdot D_B} & & \\\\\n",
    "& \\ddots & \\\\\n",
    "& & e^{D_{An} \\cdot D_B} \n",
    "\\end{pmatrix}\n",
    "\\end{align}\n",
    "\n",
    "So putting everything together, we have\n",
    "\n",
    "\\begin{align}e^{A\\otimes B} = (P_A \\otimes P_B)\\begin{pmatrix}\n",
    "e^{D_{A1}\\cdot D_B} & & \\\\\n",
    "& \\ddots & \\\\\n",
    "& & e^{D_{An} \\cdot D_B} \n",
    "\\end{pmatrix} (P_A\\otimes P_B)^{-1}\n",
    "\\end{align}"
   ]
  },
  {
   "cell_type": "code",
   "execution_count": 12,
   "metadata": {},
   "outputs": [],
   "source": [
    "from sympy import *\n",
    "from sympy.physics.quantum.dagger import Dagger"
   ]
  },
  {
   "cell_type": "code",
   "execution_count": 8,
   "metadata": {},
   "outputs": [],
   "source": [
    "symbols??"
   ]
  },
  {
   "cell_type": "code",
   "execution_count": 9,
   "metadata": {},
   "outputs": [],
   "source": [
    "ax, ay, az = symbols('a_x, a_y, a_z', real = True)\n",
    "bx, by, bz = symbols('b_x, b_y, b_z', real = True)\n",
    "\n",
    "X = Matrix([[0, 1], [1, 0]])\n",
    "Y = Matrix([[0, -I], [I, 0]])\n",
    "Z = Matrix([[1, 0], [0, -1]])"
   ]
  },
  {
   "cell_type": "code",
   "execution_count": 15,
   "metadata": {},
   "outputs": [],
   "source": [
    "A = I*(ax*X + ay*Y + az*Z)"
   ]
  },
  {
   "cell_type": "code",
   "execution_count": 18,
   "metadata": {},
   "outputs": [
    {
     "data": {
      "text/latex": [
       "$\\displaystyle \\left[\\begin{matrix}- i a_{z} & - i \\left(a_{x} - i a_{y}\\right)\\\\- i \\left(a_{x} + i a_{y}\\right) & i a_{z}\\end{matrix}\\right]$"
      ],
      "text/plain": [
       "Matrix([\n",
       "[          -I*a_z, -I*(a_x - I*a_y)],\n",
       "[-I*(a_x + I*a_y),            I*a_z]])"
      ]
     },
     "execution_count": 18,
     "metadata": {},
     "output_type": "execute_result"
    }
   ],
   "source": [
    "-A"
   ]
  },
  {
   "cell_type": "code",
   "execution_count": 19,
   "metadata": {},
   "outputs": [
    {
     "data": {
      "text/latex": [
       "$\\displaystyle \\left[\\begin{matrix}- i a_{z} & - i \\left(a_{x} - i a_{y}\\right)\\\\- i \\left(a_{x} + i a_{y}\\right) & i a_{z}\\end{matrix}\\right]$"
      ],
      "text/plain": [
       "Matrix([\n",
       "[          -I*a_z, -I*(a_x - I*a_y)],\n",
       "[-I*(a_x + I*a_y),            I*a_z]])"
      ]
     },
     "execution_count": 19,
     "metadata": {},
     "output_type": "execute_result"
    }
   ],
   "source": [
    "Dagger(A)"
   ]
  },
  {
   "cell_type": "code",
   "execution_count": null,
   "metadata": {},
   "outputs": [],
   "source": []
  }
 ],
 "metadata": {
  "kernelspec": {
   "display_name": "Python 3.10",
   "language": "python",
   "name": "python3.10"
  },
  "language_info": {
   "codemirror_mode": {
    "name": "ipython",
    "version": 3
   },
   "file_extension": ".py",
   "mimetype": "text/x-python",
   "name": "python",
   "nbconvert_exporter": "python",
   "pygments_lexer": "ipython3",
   "version": "3.10.4"
  }
 },
 "nbformat": 4,
 "nbformat_minor": 2
}
