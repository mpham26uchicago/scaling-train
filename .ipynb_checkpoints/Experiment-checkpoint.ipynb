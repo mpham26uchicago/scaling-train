{
 "cells": [
  {
   "cell_type": "markdown",
   "metadata": {},
   "source": [
    "### Matrix exponential of tensor product"
   ]
  },
  {
   "cell_type": "markdown",
   "metadata": {},
   "source": [
    "Let $A, B$ be two diagonalizable matrices. This means that \n",
    "\n",
    "\\begin{align}\n",
    "A = P_A D_A P_A^{-1}, \\quad B = P_B D_B P_B^{-1}\n",
    "\\end{align}\n",
    "\n",
    "for invertible $P_A, P_B$ and diagonal $D_A, D_B$.\n",
    "\n",
    "Then\n",
    "\n",
    "\\begin{align}\n",
    "e^{A\\otimes B}\n",
    "&= \\sum_{k=0}^{\\infty} \\frac{(A\\otimes B)^k}{k!} \\\\ \n",
    "&= (P_A \\otimes P_B)\\bigg[\\sum_{k=0}^{\\infty} \\frac{(D_A\\otimes D_B)^k}{k!} \\bigg] (P_A\\otimes P_B)^{-1} \\\\\n",
    "&= (P_A \\otimes P_B)\\bigg[\\sum_{k=0}^{\\infty} \\frac{D_A^k\\otimes D_B^k}{k!} \\bigg] (P_A\\otimes P_B)^{-1}\n",
    "\\end{align}\n",
    "\n",
    "Now, we focus on the sum of diagonals\n",
    "\n",
    "\\begin{align}\n",
    "\\sum_{k=0}^{\\infty} \\frac{D_A^k\\otimes D_B^k}{k!}\n",
    "&= \\sum_{k=0}^{\\infty} \\frac{1}{k!} \\begin{pmatrix}\n",
    "D_{A_1}^k\\cdot D_B^K & & \\\\\n",
    "& \\ddots & \\\\\n",
    "& & D_{A_n}^k\\cdot D_B^K\n",
    "\\end{pmatrix} \\\\\n",
    "&= \\begin{pmatrix}\n",
    "\\sum_{k=0}^\\infty \\frac{1}{k!}(D_{A_1}^k\\cdot D_B^k) & & \\\\\n",
    "& \\ddots & \\\\\n",
    "& & \\sum_{k=0}^\\infty \\frac{1}{k!}(D_{A_n}^k\\cdot D_B^k)\n",
    "\\end{pmatrix} \\\\\n",
    "&= \\begin{pmatrix}\n",
    "e^{D_{A_1}\\cdot D_B} & & \\\\\n",
    "& \\ddots & \\\\\n",
    "& & e^{D_{A_n} \\cdot D_B} \n",
    "\\end{pmatrix}\n",
    "\\end{align}\n",
    "\n",
    "So putting everything together, we have\n",
    "\n",
    "\\begin{align}e^{A\\otimes B} = (P_A \\otimes P_B)\\begin{pmatrix}\n",
    "e^{D_{A_1}\\cdot D_B} & & \\\\\n",
    "& \\ddots & \\\\\n",
    "& & e^{D_{A_n} \\cdot D_B} \n",
    "\\end{pmatrix} (P_A\\otimes P_B)^{-1}\n",
    "\\end{align}"
   ]
  },
  {
   "cell_type": "code",
   "execution_count": 219,
   "metadata": {},
   "outputs": [],
   "source": [
    "from sympy import *\n",
    "from sympy.physics.quantum.dagger import Dagger\n",
    "from sympy.physics.quantum import TensorProduct\n",
    "import numpy as np"
   ]
  },
  {
   "cell_type": "code",
   "execution_count": 8,
   "metadata": {},
   "outputs": [],
   "source": [
    "symbols??"
   ]
  },
  {
   "cell_type": "code",
   "execution_count": 9,
   "metadata": {},
   "outputs": [],
   "source": [
    "ax, ay, az = symbols('a_x, a_y, a_z', real = True)\n",
    "bx, by, bz = symbols('b_x, b_y, b_z', real = True)\n",
    "\n",
    "X = Matrix([[0, 1], [1, 0]])\n",
    "Y = Matrix([[0, -I], [I, 0]])\n",
    "Z = Matrix([[1, 0], [0, -1]])"
   ]
  },
  {
   "cell_type": "code",
   "execution_count": 70,
   "metadata": {},
   "outputs": [],
   "source": [
    "A = I*(ax*X + ay*Y + az*Z)\n",
    "\n",
    "B = I*(bx*X + by*Y + bz*Z)"
   ]
  },
  {
   "cell_type": "code",
   "execution_count": 90,
   "metadata": {},
   "outputs": [
    {
     "data": {
      "text/latex": [
       "$\\displaystyle \\left[\\begin{matrix}i a_{z} & i \\left(a_{x} - i a_{y}\\right)\\\\i \\left(a_{x} + i a_{y}\\right) & - i a_{z}\\end{matrix}\\right]$"
      ],
      "text/plain": [
       "Matrix([\n",
       "[          I*a_z, I*(a_x - I*a_y)],\n",
       "[I*(a_x + I*a_y),          -I*a_z]])"
      ]
     },
     "metadata": {},
     "output_type": "display_data"
    },
    {
     "name": "stdout",
     "output_type": "stream",
     "text": [
      "Skew-Hermitian: True\n"
     ]
    }
   ],
   "source": [
    "# Verify Complex Traceless Skew-Hermitian\n",
    "display(A)\n",
    "print(f\"Skew-Hermitian: {Dagger(A) == -A}\")"
   ]
  },
  {
   "cell_type": "code",
   "execution_count": 135,
   "metadata": {},
   "outputs": [
    {
     "name": "stdout",
     "output_type": "stream",
     "text": [
      "PA\n"
     ]
    },
    {
     "data": {
      "text/latex": [
       "$\\displaystyle \\left[\\begin{matrix}\\frac{a_{z} - \\sqrt{a_{x}^{2} + a_{y}^{2} + a_{z}^{2}}}{a_{x} + i a_{y}} & \\frac{a_{z} + \\sqrt{a_{x}^{2} + a_{y}^{2} + a_{z}^{2}}}{a_{x} + i a_{y}}\\\\1 & 1\\end{matrix}\\right]$"
      ],
      "text/plain": [
       "Matrix([\n",
       "[(a_z - sqrt(a_x**2 + a_y**2 + a_z**2))/(a_x + I*a_y), (a_z + sqrt(a_x**2 + a_y**2 + a_z**2))/(a_x + I*a_y)],\n",
       "[                                                   1,                                                    1]])"
      ]
     },
     "metadata": {},
     "output_type": "display_data"
    },
    {
     "name": "stdout",
     "output_type": "stream",
     "text": [
      "DA\n"
     ]
    },
    {
     "data": {
      "text/latex": [
       "$\\displaystyle \\left[\\begin{matrix}- i \\sqrt{a_{x}^{2} + a_{y}^{2} + a_{z}^{2}} & 0\\\\0 & \\sqrt{- a_{x}^{2} - a_{y}^{2} - a_{z}^{2}}\\end{matrix}\\right]$"
      ],
      "text/plain": [
       "Matrix([\n",
       "[-I*sqrt(a_x**2 + a_y**2 + a_z**2),                               0],\n",
       "[                                0, sqrt(-a_x**2 - a_y**2 - a_z**2)]])"
      ]
     },
     "metadata": {},
     "output_type": "display_data"
    }
   ],
   "source": [
    "# Diagonalize\n",
    "PA, DA = A.diagonalize()\n",
    "\n",
    "print(\"PA\")\n",
    "display(PA)\n",
    "print(\"DA\")\n",
    "display(simplify(DA))"
   ]
  },
  {
   "cell_type": "code",
   "execution_count": 144,
   "metadata": {},
   "outputs": [
    {
     "data": {
      "text/plain": [
       "True"
      ]
     },
     "execution_count": 144,
     "metadata": {},
     "output_type": "execute_result"
    }
   ],
   "source": [
    "#Verify correctness of diagonalization\n",
    "simplify(PA@DA@PA.inv()) == A.expand()"
   ]
  },
  {
   "cell_type": "code",
   "execution_count": 157,
   "metadata": {},
   "outputs": [],
   "source": [
    "# Rearrange eigenvectors and eigenvalues so the matrix looks nicer\n",
    "a = sqrt(ax**2 + ay**2 + az**2)\n",
    "PA = Matrix([[az + a, az-a], \n",
    "             [ax+I*ay, ax+I*ay]])\n",
    "DA = I*a*Z"
   ]
  },
  {
   "cell_type": "code",
   "execution_count": 158,
   "metadata": {
    "scrolled": true
   },
   "outputs": [
    {
     "data": {
      "text/plain": [
       "True"
      ]
     },
     "execution_count": 158,
     "metadata": {},
     "output_type": "execute_result"
    }
   ],
   "source": [
    "#Verify correctness of diagonalization\n",
    "simplify(PA@DA@PA.inv()) == A.expand()"
   ]
  },
  {
   "cell_type": "code",
   "execution_count": 161,
   "metadata": {},
   "outputs": [],
   "source": [
    "# Rearrange eigenvectors and eigenvalues so the matrix looks nicer\n",
    "b = sqrt(bx**2 + by**2 + bz**2)\n",
    "PB = Matrix([[bz+b, bz-b], \n",
    "             [bx+I*by, bx+I*by]])\n",
    "DB = I*b*Z"
   ]
  },
  {
   "cell_type": "code",
   "execution_count": 162,
   "metadata": {},
   "outputs": [
    {
     "data": {
      "text/plain": [
       "True"
      ]
     },
     "execution_count": 162,
     "metadata": {},
     "output_type": "execute_result"
    }
   ],
   "source": [
    "#Verify correctness of diagonalization\n",
    "simplify(PB@DB@PB.inv()) == B.expand()"
   ]
  },
  {
   "cell_type": "markdown",
   "metadata": {},
   "source": [
    "### Computing the Tensor Product"
   ]
  },
  {
   "cell_type": "code",
   "execution_count": 183,
   "metadata": {},
   "outputs": [],
   "source": [
    "# Declare A, B in SU(2)\n",
    "A = I*(ax*X + ay*Y + az*Z)\n",
    "B = I*(bx*X + by*Y + bz*Z)\n",
    "\n",
    "# Declare shorthand\n",
    "a = sqrt(ax**2 + ay**2 + az**2)\n",
    "b = sqrt(bx**2 + by**2 + bz**2)\n",
    "\n",
    "# Diagonal Matrices\n",
    "DA, DB = I*a*Z, I*b*Z\n",
    "\n",
    "# Invertible Matrices\n",
    "PA = Matrix([[az + a, az-a], \n",
    "             [ax+I*ay, ax+I*ay]])\n",
    "PB = Matrix([[bz+b, bz-b], \n",
    "             [bx+I*by, bx+I*by]])"
   ]
  },
  {
   "cell_type": "code",
   "execution_count": 190,
   "metadata": {},
   "outputs": [
    {
     "name": "stdout",
     "output_type": "stream",
     "text": [
      "A: True\n",
      "B: True\n"
     ]
    }
   ],
   "source": [
    "#Verify correctness of diagonalization\n",
    "print('A', end = ': ')\n",
    "print(simplify(PA@DA@PA.inv()) == A.expand())\n",
    "\n",
    "#Verify correctness of diagonalization\n",
    "print('B', end = ': ')\n",
    "print(simplify(PB@DB@PB.inv()) == B.expand())"
   ]
  },
  {
   "cell_type": "markdown",
   "metadata": {},
   "source": [
    "Now we compute the tensor product of the diagonal and the invertible matrices"
   ]
  },
  {
   "cell_type": "code",
   "execution_count": 205,
   "metadata": {},
   "outputs": [
    {
     "name": "stdout",
     "output_type": "stream",
     "text": [
      "DA⊗DB\n"
     ]
    },
    {
     "data": {
      "text/latex": [
       "$\\displaystyle \\left[\\begin{matrix}- \\sqrt{a_{x}^{2} + a_{y}^{2} + a_{z}^{2}} \\sqrt{b_{x}^{2} + b_{y}^{2} + b_{z}^{2}} & 0 & 0 & 0\\\\0 & \\sqrt{a_{x}^{2} + a_{y}^{2} + a_{z}^{2}} \\sqrt{b_{x}^{2} + b_{y}^{2} + b_{z}^{2}} & 0 & 0\\\\0 & 0 & \\sqrt{a_{x}^{2} + a_{y}^{2} + a_{z}^{2}} \\sqrt{b_{x}^{2} + b_{y}^{2} + b_{z}^{2}} & 0\\\\0 & 0 & 0 & - \\sqrt{a_{x}^{2} + a_{y}^{2} + a_{z}^{2}} \\sqrt{b_{x}^{2} + b_{y}^{2} + b_{z}^{2}}\\end{matrix}\\right]$"
      ],
      "text/plain": [
       "Matrix([\n",
       "[-sqrt(a_x**2 + a_y**2 + a_z**2)*sqrt(b_x**2 + b_y**2 + b_z**2),                                                             0,                                                             0,                                                              0],\n",
       "[                                                             0, sqrt(a_x**2 + a_y**2 + a_z**2)*sqrt(b_x**2 + b_y**2 + b_z**2),                                                             0,                                                              0],\n",
       "[                                                             0,                                                             0, sqrt(a_x**2 + a_y**2 + a_z**2)*sqrt(b_x**2 + b_y**2 + b_z**2),                                                              0],\n",
       "[                                                             0,                                                             0,                                                             0, -sqrt(a_x**2 + a_y**2 + a_z**2)*sqrt(b_x**2 + b_y**2 + b_z**2)]])"
      ]
     },
     "execution_count": 205,
     "metadata": {},
     "output_type": "execute_result"
    }
   ],
   "source": [
    "print('DA⊗DB')\n",
    "TensorProduct(DA, DB)"
   ]
  },
  {
   "cell_type": "code",
   "execution_count": 211,
   "metadata": {},
   "outputs": [
    {
     "name": "stdout",
     "output_type": "stream",
     "text": [
      "PA⊗PB\n"
     ]
    },
    {
     "data": {
      "text/latex": [
       "$\\displaystyle \\left[\\begin{matrix}\\left(a_{z} + \\sqrt{a_{x}^{2} + a_{y}^{2} + a_{z}^{2}}\\right) \\left(b_{z} + \\sqrt{b_{x}^{2} + b_{y}^{2} + b_{z}^{2}}\\right) & \\left(a_{z} + \\sqrt{a_{x}^{2} + a_{y}^{2} + a_{z}^{2}}\\right) \\left(b_{z} - \\sqrt{b_{x}^{2} + b_{y}^{2} + b_{z}^{2}}\\right) & \\left(a_{z} - \\sqrt{a_{x}^{2} + a_{y}^{2} + a_{z}^{2}}\\right) \\left(b_{z} + \\sqrt{b_{x}^{2} + b_{y}^{2} + b_{z}^{2}}\\right) & \\left(a_{z} - \\sqrt{a_{x}^{2} + a_{y}^{2} + a_{z}^{2}}\\right) \\left(b_{z} - \\sqrt{b_{x}^{2} + b_{y}^{2} + b_{z}^{2}}\\right)\\\\\\left(a_{z} + \\sqrt{a_{x}^{2} + a_{y}^{2} + a_{z}^{2}}\\right) \\left(b_{x} + i b_{y}\\right) & \\left(a_{z} + \\sqrt{a_{x}^{2} + a_{y}^{2} + a_{z}^{2}}\\right) \\left(b_{x} + i b_{y}\\right) & \\left(a_{z} - \\sqrt{a_{x}^{2} + a_{y}^{2} + a_{z}^{2}}\\right) \\left(b_{x} + i b_{y}\\right) & \\left(a_{z} - \\sqrt{a_{x}^{2} + a_{y}^{2} + a_{z}^{2}}\\right) \\left(b_{x} + i b_{y}\\right)\\\\\\left(a_{x} + i a_{y}\\right) \\left(b_{z} + \\sqrt{b_{x}^{2} + b_{y}^{2} + b_{z}^{2}}\\right) & \\left(a_{x} + i a_{y}\\right) \\left(b_{z} - \\sqrt{b_{x}^{2} + b_{y}^{2} + b_{z}^{2}}\\right) & \\left(a_{x} + i a_{y}\\right) \\left(b_{z} + \\sqrt{b_{x}^{2} + b_{y}^{2} + b_{z}^{2}}\\right) & \\left(a_{x} + i a_{y}\\right) \\left(b_{z} - \\sqrt{b_{x}^{2} + b_{y}^{2} + b_{z}^{2}}\\right)\\\\\\left(a_{x} + i a_{y}\\right) \\left(b_{x} + i b_{y}\\right) & \\left(a_{x} + i a_{y}\\right) \\left(b_{x} + i b_{y}\\right) & \\left(a_{x} + i a_{y}\\right) \\left(b_{x} + i b_{y}\\right) & \\left(a_{x} + i a_{y}\\right) \\left(b_{x} + i b_{y}\\right)\\end{matrix}\\right]$"
      ],
      "text/plain": [
       "Matrix([\n",
       "[(a_z + sqrt(a_x**2 + a_y**2 + a_z**2))*(b_z + sqrt(b_x**2 + b_y**2 + b_z**2)), (a_z + sqrt(a_x**2 + a_y**2 + a_z**2))*(b_z - sqrt(b_x**2 + b_y**2 + b_z**2)), (a_z - sqrt(a_x**2 + a_y**2 + a_z**2))*(b_z + sqrt(b_x**2 + b_y**2 + b_z**2)), (a_z - sqrt(a_x**2 + a_y**2 + a_z**2))*(b_z - sqrt(b_x**2 + b_y**2 + b_z**2))],\n",
       "[                         (a_z + sqrt(a_x**2 + a_y**2 + a_z**2))*(b_x + I*b_y),                          (a_z + sqrt(a_x**2 + a_y**2 + a_z**2))*(b_x + I*b_y),                          (a_z - sqrt(a_x**2 + a_y**2 + a_z**2))*(b_x + I*b_y),                          (a_z - sqrt(a_x**2 + a_y**2 + a_z**2))*(b_x + I*b_y)],\n",
       "[                         (a_x + I*a_y)*(b_z + sqrt(b_x**2 + b_y**2 + b_z**2)),                          (a_x + I*a_y)*(b_z - sqrt(b_x**2 + b_y**2 + b_z**2)),                          (a_x + I*a_y)*(b_z + sqrt(b_x**2 + b_y**2 + b_z**2)),                          (a_x + I*a_y)*(b_z - sqrt(b_x**2 + b_y**2 + b_z**2))],\n",
       "[                                                  (a_x + I*a_y)*(b_x + I*b_y),                                                   (a_x + I*a_y)*(b_x + I*b_y),                                                   (a_x + I*a_y)*(b_x + I*b_y),                                                   (a_x + I*a_y)*(b_x + I*b_y)]])"
      ]
     },
     "execution_count": 211,
     "metadata": {},
     "output_type": "execute_result"
    }
   ],
   "source": [
    "print('PA⊗PB')\n",
    "TensorProduct(PA, PB)"
   ]
  },
  {
   "cell_type": "markdown",
   "metadata": {},
   "source": [
    "Numerically check using sympy substitution"
   ]
  },
  {
   "cell_type": "code",
   "execution_count": 234,
   "metadata": {},
   "outputs": [],
   "source": [
    "AB_test = simplify(TensorProduct(PA, PB)@TensorProduct(DA, DB)@TensorProduct(PA.inv(), PB.inv()))"
   ]
  },
  {
   "cell_type": "code",
   "execution_count": 241,
   "metadata": {},
   "outputs": [
    {
     "data": {
      "text/plain": [
       "True"
      ]
     },
     "execution_count": 241,
     "metadata": {},
     "output_type": "execute_result"
    }
   ],
   "source": [
    "expand(AB_test) == expand(TensorProduct(A, B))"
   ]
  },
  {
   "cell_type": "code",
   "execution_count": 228,
   "metadata": {},
   "outputs": [],
   "source": [
    "values_to_variables = list(zip([ax, ay, az, bx, by, bz], np.random.rand(6)*2*np.pi))"
   ]
  },
  {
   "cell_type": "code",
   "execution_count": 229,
   "metadata": {},
   "outputs": [
    {
     "data": {
      "text/latex": [
       "$\\displaystyle \\left[\\begin{matrix}37.7659302722477 & -28.679444631796 & -17.2652430409045 & 13.1112242774538\\\\31.5678423709918 + 9.30468883151987 i & 31.5678423709918 + 9.30468883151987 i & -14.4316972171251 - 4.25377351856819 i & -14.4316972171251 - 4.25377351856819 i\\\\18.1593350789551 + 17.9520615614598 i & -13.7901977044594 - 13.6327942107339 i & 18.1593350789551 + 17.9520615614598 i & -13.7901977044594 - 13.6327942107339 i\\\\10.7560618179531 + 19.4798541066018 i & 10.7560618179531 + 19.4798541066018 i & 10.7560618179531 + 19.4798541066018 i & 10.7560618179531 + 19.4798541066018 i\\end{matrix}\\right]$"
      ],
      "text/plain": [
       "Matrix([\n",
       "[                     37.7659302722477,                       -28.679444631796,                      -17.2652430409045,                       13.1112242774538],\n",
       "[31.5678423709918 + 9.30468883151987*I,  31.5678423709918 + 9.30468883151987*I, -14.4316972171251 - 4.25377351856819*I, -14.4316972171251 - 4.25377351856819*I],\n",
       "[18.1593350789551 + 17.9520615614598*I, -13.7901977044594 - 13.6327942107339*I,  18.1593350789551 + 17.9520615614598*I, -13.7901977044594 - 13.6327942107339*I],\n",
       "[10.7560618179531 + 19.4798541066018*I,  10.7560618179531 + 19.4798541066018*I,  10.7560618179531 + 19.4798541066018*I,  10.7560618179531 + 19.4798541066018*I]])"
      ]
     },
     "execution_count": 229,
     "metadata": {},
     "output_type": "execute_result"
    }
   ],
   "source": [
    "simplify(expand(AB_test)).subs(values_to_variables)"
   ]
  },
  {
   "cell_type": "code",
   "execution_count": 230,
   "metadata": {
    "scrolled": true
   },
   "outputs": [
    {
     "data": {
      "text/latex": [
       "$\\displaystyle \\left[\\begin{matrix}-1.23311671925025 & -8.56807257693338 + 2.52545765647584 i & -2.18456868724785 + 2.15963367536293 i & -10.7560618179531 + 19.4798541066018 i\\\\-8.56807257693338 - 2.52545765647584 i & 1.23311671925025 & -19.6020426006068 + 10.5317381153405 i & 2.18456868724785 - 2.15963367536293 i\\\\-2.18456868724785 - 2.15963367536293 i & -19.6020426006068 - 10.5317381153405 i & 1.23311671925025 & 8.56807257693338 - 2.52545765647584 i\\\\-10.7560618179531 - 19.4798541066018 i & 2.18456868724785 + 2.15963367536293 i & 8.56807257693338 + 2.52545765647584 i & -1.23311671925025\\end{matrix}\\right]$"
      ],
      "text/plain": [
       "Matrix([\n",
       "[                     -1.23311671925025, -8.56807257693338 + 2.52545765647584*I, -2.18456868724785 + 2.15963367536293*I, -10.7560618179531 + 19.4798541066018*I],\n",
       "[-8.56807257693338 - 2.52545765647584*I,                       1.23311671925025, -19.6020426006068 + 10.5317381153405*I,  2.18456868724785 - 2.15963367536293*I],\n",
       "[-2.18456868724785 - 2.15963367536293*I, -19.6020426006068 - 10.5317381153405*I,                       1.23311671925025,  8.56807257693338 - 2.52545765647584*I],\n",
       "[-10.7560618179531 - 19.4798541066018*I,  2.18456868724785 + 2.15963367536293*I,  8.56807257693338 + 2.52545765647584*I,                      -1.23311671925025]])"
      ]
     },
     "execution_count": 230,
     "metadata": {},
     "output_type": "execute_result"
    }
   ],
   "source": [
    "expand(TensorProduct(A, B)).subs(values_to_variables)"
   ]
  },
  {
   "cell_type": "code",
   "execution_count": null,
   "metadata": {},
   "outputs": [],
   "source": []
  }
 ],
 "metadata": {
  "kernelspec": {
   "display_name": "Python 3.10",
   "language": "python",
   "name": "python3.10"
  },
  "language_info": {
   "codemirror_mode": {
    "name": "ipython",
    "version": 3
   },
   "file_extension": ".py",
   "mimetype": "text/x-python",
   "name": "python",
   "nbconvert_exporter": "python",
   "pygments_lexer": "ipython3",
   "version": "3.10.4"
  }
 },
 "nbformat": 4,
 "nbformat_minor": 2
}
