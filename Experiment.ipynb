{
 "cells": [
  {
   "cell_type": "markdown",
   "metadata": {},
   "source": [
    "### Matrix exponential of tensor product"
   ]
  },
  {
   "cell_type": "markdown",
   "metadata": {},
   "source": [
    "Let $A, B$ be two diagonalizable matrices. This means that \n",
    "\n",
    "\\begin{align}\n",
    "A = P_A D_A P_A^{-1}, \\quad B = P_B D_B P_B^{-1}\n",
    "\\end{align}\n",
    "\n",
    "for invertible $P_A, P_B$ and diagonal $D_A, D_B$.\n",
    "\n",
    "Then\n",
    "\n",
    "\\begin{align}\n",
    "e^{A\\otimes B}\n",
    "&= \\sum_{k=0}^{\\infty} \\frac{(A\\otimes B)^k}{k!} \\\\ \n",
    "&= (P_A \\otimes P_B)\\bigg[\\sum_{k=0}^{\\infty} \\frac{(D_A\\otimes D_B)^k}{k!} \\bigg] (P_A\\otimes P_B)^{-1} \\\\\n",
    "&= (P_A \\otimes P_B)\\bigg[\\sum_{k=0}^{\\infty} \\frac{D_A^k\\otimes D_B^k}{k!} \\bigg] (P_A\\otimes P_B)^{-1}\n",
    "\\end{align}\n",
    "\n",
    "Now, we focus on the sum of diagonals\n",
    "\n",
    "\\begin{align}\n",
    "\\sum_{k=0}^{\\infty} \\frac{D_A^k\\otimes D_B^k}{k!}\n",
    "&= \\sum_{k=0}^{\\infty} \\frac{1}{k!} \\begin{pmatrix}\n",
    "D_{A_1}^k\\cdot D_B^K & & \\\\\n",
    "& \\ddots & \\\\\n",
    "& & D_{A_n}^k\\cdot D_B^K\n",
    "\\end{pmatrix} \\\\\n",
    "&= \\begin{pmatrix}\n",
    "\\sum_{k=0}^\\infty \\frac{1}{k!}(D_{A_1}^k\\cdot D_B^k) & & \\\\\n",
    "& \\ddots & \\\\\n",
    "& & \\sum_{k=0}^\\infty \\frac{1}{k!}(D_{A_n}^k\\cdot D_B^k)\n",
    "\\end{pmatrix} \\\\\n",
    "&= \\begin{pmatrix}\n",
    "e^{D_{A_1}\\cdot D_B} & & \\\\\n",
    "& \\ddots & \\\\\n",
    "& & e^{D_{A_n} \\cdot D_B} \n",
    "\\end{pmatrix}\n",
    "\\end{align}\n",
    "\n",
    "So putting everything together, we have\n",
    "\n",
    "\\begin{align}e^{A\\otimes B} = (P_A \\otimes P_B)\\begin{pmatrix}\n",
    "e^{D_{A_1}\\cdot D_B} & & \\\\\n",
    "& \\ddots & \\\\\n",
    "& & e^{D_{A_n} \\cdot D_B} \n",
    "\\end{pmatrix} (P_A\\otimes P_B)^{-1}\n",
    "\\end{align}"
   ]
  },
  {
   "cell_type": "code",
   "execution_count": 264,
   "metadata": {},
   "outputs": [],
   "source": [
    "from sympy import *\n",
    "from sympy.physics.quantum.dagger import Dagger\n",
    "from sympy.physics.quantum import TensorProduct\n",
    "import numpy as np\n",
    "from scipy.linalg import expm"
   ]
  },
  {
   "cell_type": "code",
   "execution_count": 8,
   "metadata": {},
   "outputs": [],
   "source": [
    "symbols??"
   ]
  },
  {
   "cell_type": "code",
   "execution_count": 9,
   "metadata": {},
   "outputs": [],
   "source": [
    "ax, ay, az = symbols('a_x, a_y, a_z', real = True)\n",
    "bx, by, bz = symbols('b_x, b_y, b_z', real = True)\n",
    "\n",
    "X = Matrix([[0, 1], [1, 0]])\n",
    "Y = Matrix([[0, -I], [I, 0]])\n",
    "Z = Matrix([[1, 0], [0, -1]])"
   ]
  },
  {
   "cell_type": "code",
   "execution_count": 70,
   "metadata": {},
   "outputs": [],
   "source": [
    "A = I*(ax*X + ay*Y + az*Z)\n",
    "\n",
    "B = I*(bx*X + by*Y + bz*Z)"
   ]
  },
  {
   "cell_type": "code",
   "execution_count": 90,
   "metadata": {},
   "outputs": [
    {
     "data": {
      "text/latex": [
       "$\\displaystyle \\left[\\begin{matrix}i a_{z} & i \\left(a_{x} - i a_{y}\\right)\\\\i \\left(a_{x} + i a_{y}\\right) & - i a_{z}\\end{matrix}\\right]$"
      ],
      "text/plain": [
       "Matrix([\n",
       "[          I*a_z, I*(a_x - I*a_y)],\n",
       "[I*(a_x + I*a_y),          -I*a_z]])"
      ]
     },
     "metadata": {},
     "output_type": "display_data"
    },
    {
     "name": "stdout",
     "output_type": "stream",
     "text": [
      "Skew-Hermitian: True\n"
     ]
    }
   ],
   "source": [
    "# Verify Complex Traceless Skew-Hermitian\n",
    "display(A)\n",
    "print(f\"Skew-Hermitian: {Dagger(A) == -A}\")"
   ]
  },
  {
   "cell_type": "code",
   "execution_count": 135,
   "metadata": {},
   "outputs": [
    {
     "name": "stdout",
     "output_type": "stream",
     "text": [
      "PA\n"
     ]
    },
    {
     "data": {
      "text/latex": [
       "$\\displaystyle \\left[\\begin{matrix}\\frac{a_{z} - \\sqrt{a_{x}^{2} + a_{y}^{2} + a_{z}^{2}}}{a_{x} + i a_{y}} & \\frac{a_{z} + \\sqrt{a_{x}^{2} + a_{y}^{2} + a_{z}^{2}}}{a_{x} + i a_{y}}\\\\1 & 1\\end{matrix}\\right]$"
      ],
      "text/plain": [
       "Matrix([\n",
       "[(a_z - sqrt(a_x**2 + a_y**2 + a_z**2))/(a_x + I*a_y), (a_z + sqrt(a_x**2 + a_y**2 + a_z**2))/(a_x + I*a_y)],\n",
       "[                                                   1,                                                    1]])"
      ]
     },
     "metadata": {},
     "output_type": "display_data"
    },
    {
     "name": "stdout",
     "output_type": "stream",
     "text": [
      "DA\n"
     ]
    },
    {
     "data": {
      "text/latex": [
       "$\\displaystyle \\left[\\begin{matrix}- i \\sqrt{a_{x}^{2} + a_{y}^{2} + a_{z}^{2}} & 0\\\\0 & \\sqrt{- a_{x}^{2} - a_{y}^{2} - a_{z}^{2}}\\end{matrix}\\right]$"
      ],
      "text/plain": [
       "Matrix([\n",
       "[-I*sqrt(a_x**2 + a_y**2 + a_z**2),                               0],\n",
       "[                                0, sqrt(-a_x**2 - a_y**2 - a_z**2)]])"
      ]
     },
     "metadata": {},
     "output_type": "display_data"
    }
   ],
   "source": [
    "# Diagonalize\n",
    "PA, DA = A.diagonalize()\n",
    "\n",
    "print(\"PA\")\n",
    "display(PA)\n",
    "print(\"DA\")\n",
    "display(simplify(DA))"
   ]
  },
  {
   "cell_type": "code",
   "execution_count": 144,
   "metadata": {},
   "outputs": [
    {
     "data": {
      "text/plain": [
       "True"
      ]
     },
     "execution_count": 144,
     "metadata": {},
     "output_type": "execute_result"
    }
   ],
   "source": [
    "#Verify correctness of diagonalization\n",
    "simplify(PA@DA@PA.inv()) == A.expand()"
   ]
  },
  {
   "cell_type": "code",
   "execution_count": 157,
   "metadata": {},
   "outputs": [],
   "source": [
    "# Rearrange eigenvectors and eigenvalues so the matrix looks nicer\n",
    "a = sqrt(ax**2 + ay**2 + az**2)\n",
    "PA = Matrix([[az + a, az-a], \n",
    "             [ax+I*ay, ax+I*ay]])\n",
    "DA = I*a*Z"
   ]
  },
  {
   "cell_type": "code",
   "execution_count": 158,
   "metadata": {
    "scrolled": true
   },
   "outputs": [
    {
     "data": {
      "text/plain": [
       "True"
      ]
     },
     "execution_count": 158,
     "metadata": {},
     "output_type": "execute_result"
    }
   ],
   "source": [
    "#Verify correctness of diagonalization\n",
    "simplify(PA@DA@PA.inv()) == A.expand()"
   ]
  },
  {
   "cell_type": "code",
   "execution_count": 161,
   "metadata": {},
   "outputs": [],
   "source": [
    "# Rearrange eigenvectors and eigenvalues so the matrix looks nicer\n",
    "b = sqrt(bx**2 + by**2 + bz**2)\n",
    "PB = Matrix([[bz+b, bz-b], \n",
    "             [bx+I*by, bx+I*by]])\n",
    "DB = I*b*Z"
   ]
  },
  {
   "cell_type": "code",
   "execution_count": 162,
   "metadata": {},
   "outputs": [
    {
     "data": {
      "text/plain": [
       "True"
      ]
     },
     "execution_count": 162,
     "metadata": {},
     "output_type": "execute_result"
    }
   ],
   "source": [
    "#Verify correctness of diagonalization\n",
    "simplify(PB@DB@PB.inv()) == B.expand()"
   ]
  },
  {
   "cell_type": "markdown",
   "metadata": {},
   "source": [
    "### Computing the Tensor Product"
   ]
  },
  {
   "cell_type": "code",
   "execution_count": 183,
   "metadata": {},
   "outputs": [],
   "source": [
    "# Declare A, B in SU(2)\n",
    "A = I*(ax*X + ay*Y + az*Z)\n",
    "B = I*(bx*X + by*Y + bz*Z)\n",
    "\n",
    "# Declare shorthand\n",
    "a = sqrt(ax**2 + ay**2 + az**2)\n",
    "b = sqrt(bx**2 + by**2 + bz**2)\n",
    "\n",
    "# Diagonal Matrices\n",
    "DA, DB = I*a*Z, I*b*Z\n",
    "\n",
    "# Invertible Matrices\n",
    "PA = Matrix([[az + a, az-a], \n",
    "             [ax+I*ay, ax+I*ay]])\n",
    "PB = Matrix([[bz+b, bz-b], \n",
    "             [bx+I*by, bx+I*by]])"
   ]
  },
  {
   "cell_type": "code",
   "execution_count": 190,
   "metadata": {},
   "outputs": [
    {
     "name": "stdout",
     "output_type": "stream",
     "text": [
      "A: True\n",
      "B: True\n"
     ]
    }
   ],
   "source": [
    "#Verify correctness of diagonalization\n",
    "print('A', end = ': ')\n",
    "print(simplify(PA@DA@PA.inv()) == A.expand())\n",
    "\n",
    "#Verify correctness of diagonalization\n",
    "print('B', end = ': ')\n",
    "print(simplify(PB@DB@PB.inv()) == B.expand())"
   ]
  },
  {
   "cell_type": "markdown",
   "metadata": {},
   "source": [
    "We have that $SU(2) \\otimes SU(2) = \\exp(\\mathfrak{su}(2)) \\otimes \\exp(\\mathfrak{su}(2))$. Hence, we are going to take the matrix exponential first then the tensor product."
   ]
  },
  {
   "cell_type": "code",
   "execution_count": null,
   "metadata": {},
   "outputs": [],
   "source": []
  }
 ],
 "metadata": {
  "kernelspec": {
   "display_name": "Python 3.10",
   "language": "python",
   "name": "python3.10"
  },
  "language_info": {
   "codemirror_mode": {
    "name": "ipython",
    "version": 3
   },
   "file_extension": ".py",
   "mimetype": "text/x-python",
   "name": "python",
   "nbconvert_exporter": "python",
   "pygments_lexer": "ipython3",
   "version": "3.10.4"
  }
 },
 "nbformat": 4,
 "nbformat_minor": 2
}
