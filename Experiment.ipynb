{
 "cells": [
  {
   "cell_type": "markdown",
   "metadata": {},
   "source": [
    "### Matrix exponential of tensor product"
   ]
  },
  {
   "cell_type": "markdown",
   "metadata": {},
   "source": [
    "Let $A, B$ be two diagonalizable matrices. This means that \n",
    "\n",
    "\\begin{align}\n",
    "A = P_A D_A P_A^{-1}, \\quad B = P_B D_B P_B^{-1}\n",
    "\\end{align}\n",
    "\n",
    "for invertible $P_A, P_B$ and diagonal $D_A, D_B$.\n",
    "\n",
    "Then\n",
    "\n",
    "\\begin{align}\n",
    "e^{A\\otimes B}\n",
    "&= \\sum_{k=0}^{\\infty} \\frac{(A\\otimes B)^k}{k!} \\\\ \n",
    "&= (P_A \\otimes P_B)\\bigg[\\sum_{k=0}^{\\infty} \\frac{(D_A\\otimes D_B)^k}{k!} \\bigg] (P_A\\otimes P_B)^{-1} \\\\\n",
    "&= (P_A \\otimes P_B)\\bigg[\\sum_{k=0}^{\\infty} \\frac{D_A^k\\otimes D_B^k}{k!} \\bigg] (P_A\\otimes P_B)^{-1}\n",
    "\\end{align}\n",
    "\n",
    "Now, we focus on the sum of diagonals\n",
    "\n",
    "\\begin{align}\n",
    "\\sum_{k=0}^{\\infty} \\frac{D_A^k\\otimes D_B^k}{k!}\n",
    "&= \\sum_{k=0}^{\\infty} \\frac{1}{k!} \\begin{pmatrix}\n",
    "D_{A_1}^k\\cdot D_B^K & & \\\\\n",
    "& \\ddots & \\\\\n",
    "& & D_{A_n}^k\\cdot D_B^K\n",
    "\\end{pmatrix} \\\\\n",
    "&= \\begin{pmatrix}\n",
    "\\sum_{k=0}^\\infty \\frac{1}{k!}(D_{A_1}^k\\cdot D_B^k) & & \\\\\n",
    "& \\ddots & \\\\\n",
    "& & \\sum_{k=0}^\\infty \\frac{1}{k!}(D_{A_n}^k\\cdot D_B^k)\n",
    "\\end{pmatrix} \\\\\n",
    "&= \\begin{pmatrix}\n",
    "e^{D_{A_1}\\cdot D_B} & & \\\\\n",
    "& \\ddots & \\\\\n",
    "& & e^{D_{A_n} \\cdot D_B} \n",
    "\\end{pmatrix}\n",
    "\\end{align}\n",
    "\n",
    "So putting everything together, we have\n",
    "\n",
    "\\begin{align}e^{A\\otimes B} = (P_A \\otimes P_B)\\begin{pmatrix}\n",
    "e^{D_{A_1}\\cdot D_B} & & \\\\\n",
    "& \\ddots & \\\\\n",
    "& & e^{D_{A_n} \\cdot D_B} \n",
    "\\end{pmatrix} (P_A\\otimes P_B)^{-1}\n",
    "\\end{align}"
   ]
  },
  {
   "cell_type": "code",
   "execution_count": 264,
   "metadata": {},
   "outputs": [],
   "source": [
    "from sympy import *\n",
    "from sympy.physics.quantum.dagger import Dagger\n",
    "from sympy.physics.quantum import TensorProduct\n",
    "import numpy as np\n",
    "from scipy.linalg import expm"
   ]
  },
  {
   "cell_type": "code",
   "execution_count": 8,
   "metadata": {},
   "outputs": [],
   "source": [
    "symbols??"
   ]
  },
  {
   "cell_type": "code",
   "execution_count": 9,
   "metadata": {},
   "outputs": [],
   "source": [
    "ax, ay, az = symbols('a_x, a_y, a_z', real = True)\n",
    "bx, by, bz = symbols('b_x, b_y, b_z', real = True)\n",
    "\n",
    "X = Matrix([[0, 1], [1, 0]])\n",
    "Y = Matrix([[0, -I], [I, 0]])\n",
    "Z = Matrix([[1, 0], [0, -1]])"
   ]
  },
  {
   "cell_type": "code",
   "execution_count": 70,
   "metadata": {},
   "outputs": [],
   "source": [
    "A = I*(ax*X + ay*Y + az*Z)\n",
    "\n",
    "B = I*(bx*X + by*Y + bz*Z)"
   ]
  },
  {
   "cell_type": "code",
   "execution_count": 90,
   "metadata": {},
   "outputs": [
    {
     "data": {
      "text/latex": [
       "$\\displaystyle \\left[\\begin{matrix}i a_{z} & i \\left(a_{x} - i a_{y}\\right)\\\\i \\left(a_{x} + i a_{y}\\right) & - i a_{z}\\end{matrix}\\right]$"
      ],
      "text/plain": [
       "Matrix([\n",
       "[          I*a_z, I*(a_x - I*a_y)],\n",
       "[I*(a_x + I*a_y),          -I*a_z]])"
      ]
     },
     "metadata": {},
     "output_type": "display_data"
    },
    {
     "name": "stdout",
     "output_type": "stream",
     "text": [
      "Skew-Hermitian: True\n"
     ]
    }
   ],
   "source": [
    "# Verify Complex Traceless Skew-Hermitian\n",
    "display(A)\n",
    "print(f\"Skew-Hermitian: {Dagger(A) == -A}\")"
   ]
  },
  {
   "cell_type": "code",
   "execution_count": 135,
   "metadata": {},
   "outputs": [
    {
     "name": "stdout",
     "output_type": "stream",
     "text": [
      "PA\n"
     ]
    },
    {
     "data": {
      "text/latex": [
       "$\\displaystyle \\left[\\begin{matrix}\\frac{a_{z} - \\sqrt{a_{x}^{2} + a_{y}^{2} + a_{z}^{2}}}{a_{x} + i a_{y}} & \\frac{a_{z} + \\sqrt{a_{x}^{2} + a_{y}^{2} + a_{z}^{2}}}{a_{x} + i a_{y}}\\\\1 & 1\\end{matrix}\\right]$"
      ],
      "text/plain": [
       "Matrix([\n",
       "[(a_z - sqrt(a_x**2 + a_y**2 + a_z**2))/(a_x + I*a_y), (a_z + sqrt(a_x**2 + a_y**2 + a_z**2))/(a_x + I*a_y)],\n",
       "[                                                   1,                                                    1]])"
      ]
     },
     "metadata": {},
     "output_type": "display_data"
    },
    {
     "name": "stdout",
     "output_type": "stream",
     "text": [
      "DA\n"
     ]
    },
    {
     "data": {
      "text/latex": [
       "$\\displaystyle \\left[\\begin{matrix}- i \\sqrt{a_{x}^{2} + a_{y}^{2} + a_{z}^{2}} & 0\\\\0 & \\sqrt{- a_{x}^{2} - a_{y}^{2} - a_{z}^{2}}\\end{matrix}\\right]$"
      ],
      "text/plain": [
       "Matrix([\n",
       "[-I*sqrt(a_x**2 + a_y**2 + a_z**2),                               0],\n",
       "[                                0, sqrt(-a_x**2 - a_y**2 - a_z**2)]])"
      ]
     },
     "metadata": {},
     "output_type": "display_data"
    }
   ],
   "source": [
    "# Diagonalize\n",
    "PA, DA = A.diagonalize()\n",
    "\n",
    "print(\"PA\")\n",
    "display(PA)\n",
    "print(\"DA\")\n",
    "display(simplify(DA))"
   ]
  },
  {
   "cell_type": "code",
   "execution_count": 144,
   "metadata": {},
   "outputs": [
    {
     "data": {
      "text/plain": [
       "True"
      ]
     },
     "execution_count": 144,
     "metadata": {},
     "output_type": "execute_result"
    }
   ],
   "source": [
    "#Verify correctness of diagonalization\n",
    "simplify(PA@DA@PA.inv()) == A.expand()"
   ]
  },
  {
   "cell_type": "code",
   "execution_count": 157,
   "metadata": {},
   "outputs": [],
   "source": [
    "# Rearrange eigenvectors and eigenvalues so the matrix looks nicer\n",
    "a = sqrt(ax**2 + ay**2 + az**2)\n",
    "PA = Matrix([[az + a, az-a], \n",
    "             [ax+I*ay, ax+I*ay]])\n",
    "DA = I*a*Z"
   ]
  },
  {
   "cell_type": "code",
   "execution_count": 158,
   "metadata": {
    "scrolled": true
   },
   "outputs": [
    {
     "data": {
      "text/plain": [
       "True"
      ]
     },
     "execution_count": 158,
     "metadata": {},
     "output_type": "execute_result"
    }
   ],
   "source": [
    "#Verify correctness of diagonalization\n",
    "simplify(PA@DA@PA.inv()) == A.expand()"
   ]
  },
  {
   "cell_type": "code",
   "execution_count": 161,
   "metadata": {},
   "outputs": [],
   "source": [
    "# Rearrange eigenvectors and eigenvalues so the matrix looks nicer\n",
    "b = sqrt(bx**2 + by**2 + bz**2)\n",
    "PB = Matrix([[bz+b, bz-b], \n",
    "             [bx+I*by, bx+I*by]])\n",
    "DB = I*b*Z"
   ]
  },
  {
   "cell_type": "code",
   "execution_count": 162,
   "metadata": {},
   "outputs": [
    {
     "data": {
      "text/plain": [
       "True"
      ]
     },
     "execution_count": 162,
     "metadata": {},
     "output_type": "execute_result"
    }
   ],
   "source": [
    "#Verify correctness of diagonalization\n",
    "simplify(PB@DB@PB.inv()) == B.expand()"
   ]
  },
  {
   "cell_type": "markdown",
   "metadata": {},
   "source": [
    "### Computing the Tensor Product"
   ]
  },
  {
   "cell_type": "code",
   "execution_count": 183,
   "metadata": {},
   "outputs": [],
   "source": [
    "# Declare A, B in SU(2)\n",
    "A = I*(ax*X + ay*Y + az*Z)\n",
    "B = I*(bx*X + by*Y + bz*Z)\n",
    "\n",
    "# Declare shorthand\n",
    "a = sqrt(ax**2 + ay**2 + az**2)\n",
    "b = sqrt(bx**2 + by**2 + bz**2)\n",
    "\n",
    "# Diagonal Matrices\n",
    "DA, DB = I*a*Z, I*b*Z\n",
    "\n",
    "# Invertible Matrices\n",
    "PA = Matrix([[az + a, az-a], \n",
    "             [ax+I*ay, ax+I*ay]])\n",
    "PB = Matrix([[bz+b, bz-b], \n",
    "             [bx+I*by, bx+I*by]])"
   ]
  },
  {
   "cell_type": "code",
   "execution_count": 190,
   "metadata": {},
   "outputs": [
    {
     "name": "stdout",
     "output_type": "stream",
     "text": [
      "A: True\n",
      "B: True\n"
     ]
    }
   ],
   "source": [
    "#Verify correctness of diagonalization\n",
    "print('A', end = ': ')\n",
    "print(simplify(PA@DA@PA.inv()) == A.expand())\n",
    "\n",
    "#Verify correctness of diagonalization\n",
    "print('B', end = ': ')\n",
    "print(simplify(PB@DB@PB.inv()) == B.expand())"
   ]
  },
  {
   "cell_type": "markdown",
   "metadata": {},
   "source": [
    "Now we compute the tensor product of the diagonal and the invertible matrices"
   ]
  },
  {
   "cell_type": "code",
   "execution_count": 205,
   "metadata": {},
   "outputs": [
    {
     "name": "stdout",
     "output_type": "stream",
     "text": [
      "DA⊗DB\n"
     ]
    },
    {
     "data": {
      "text/latex": [
       "$\\displaystyle \\left[\\begin{matrix}- \\sqrt{a_{x}^{2} + a_{y}^{2} + a_{z}^{2}} \\sqrt{b_{x}^{2} + b_{y}^{2} + b_{z}^{2}} & 0 & 0 & 0\\\\0 & \\sqrt{a_{x}^{2} + a_{y}^{2} + a_{z}^{2}} \\sqrt{b_{x}^{2} + b_{y}^{2} + b_{z}^{2}} & 0 & 0\\\\0 & 0 & \\sqrt{a_{x}^{2} + a_{y}^{2} + a_{z}^{2}} \\sqrt{b_{x}^{2} + b_{y}^{2} + b_{z}^{2}} & 0\\\\0 & 0 & 0 & - \\sqrt{a_{x}^{2} + a_{y}^{2} + a_{z}^{2}} \\sqrt{b_{x}^{2} + b_{y}^{2} + b_{z}^{2}}\\end{matrix}\\right]$"
      ],
      "text/plain": [
       "Matrix([\n",
       "[-sqrt(a_x**2 + a_y**2 + a_z**2)*sqrt(b_x**2 + b_y**2 + b_z**2),                                                             0,                                                             0,                                                              0],\n",
       "[                                                             0, sqrt(a_x**2 + a_y**2 + a_z**2)*sqrt(b_x**2 + b_y**2 + b_z**2),                                                             0,                                                              0],\n",
       "[                                                             0,                                                             0, sqrt(a_x**2 + a_y**2 + a_z**2)*sqrt(b_x**2 + b_y**2 + b_z**2),                                                              0],\n",
       "[                                                             0,                                                             0,                                                             0, -sqrt(a_x**2 + a_y**2 + a_z**2)*sqrt(b_x**2 + b_y**2 + b_z**2)]])"
      ]
     },
     "execution_count": 205,
     "metadata": {},
     "output_type": "execute_result"
    }
   ],
   "source": [
    "print('DA⊗DB')\n",
    "TensorProduct(DA, DB)"
   ]
  },
  {
   "cell_type": "code",
   "execution_count": 211,
   "metadata": {},
   "outputs": [
    {
     "name": "stdout",
     "output_type": "stream",
     "text": [
      "PA⊗PB\n"
     ]
    },
    {
     "data": {
      "text/latex": [
       "$\\displaystyle \\left[\\begin{matrix}\\left(a_{z} + \\sqrt{a_{x}^{2} + a_{y}^{2} + a_{z}^{2}}\\right) \\left(b_{z} + \\sqrt{b_{x}^{2} + b_{y}^{2} + b_{z}^{2}}\\right) & \\left(a_{z} + \\sqrt{a_{x}^{2} + a_{y}^{2} + a_{z}^{2}}\\right) \\left(b_{z} - \\sqrt{b_{x}^{2} + b_{y}^{2} + b_{z}^{2}}\\right) & \\left(a_{z} - \\sqrt{a_{x}^{2} + a_{y}^{2} + a_{z}^{2}}\\right) \\left(b_{z} + \\sqrt{b_{x}^{2} + b_{y}^{2} + b_{z}^{2}}\\right) & \\left(a_{z} - \\sqrt{a_{x}^{2} + a_{y}^{2} + a_{z}^{2}}\\right) \\left(b_{z} - \\sqrt{b_{x}^{2} + b_{y}^{2} + b_{z}^{2}}\\right)\\\\\\left(a_{z} + \\sqrt{a_{x}^{2} + a_{y}^{2} + a_{z}^{2}}\\right) \\left(b_{x} + i b_{y}\\right) & \\left(a_{z} + \\sqrt{a_{x}^{2} + a_{y}^{2} + a_{z}^{2}}\\right) \\left(b_{x} + i b_{y}\\right) & \\left(a_{z} - \\sqrt{a_{x}^{2} + a_{y}^{2} + a_{z}^{2}}\\right) \\left(b_{x} + i b_{y}\\right) & \\left(a_{z} - \\sqrt{a_{x}^{2} + a_{y}^{2} + a_{z}^{2}}\\right) \\left(b_{x} + i b_{y}\\right)\\\\\\left(a_{x} + i a_{y}\\right) \\left(b_{z} + \\sqrt{b_{x}^{2} + b_{y}^{2} + b_{z}^{2}}\\right) & \\left(a_{x} + i a_{y}\\right) \\left(b_{z} - \\sqrt{b_{x}^{2} + b_{y}^{2} + b_{z}^{2}}\\right) & \\left(a_{x} + i a_{y}\\right) \\left(b_{z} + \\sqrt{b_{x}^{2} + b_{y}^{2} + b_{z}^{2}}\\right) & \\left(a_{x} + i a_{y}\\right) \\left(b_{z} - \\sqrt{b_{x}^{2} + b_{y}^{2} + b_{z}^{2}}\\right)\\\\\\left(a_{x} + i a_{y}\\right) \\left(b_{x} + i b_{y}\\right) & \\left(a_{x} + i a_{y}\\right) \\left(b_{x} + i b_{y}\\right) & \\left(a_{x} + i a_{y}\\right) \\left(b_{x} + i b_{y}\\right) & \\left(a_{x} + i a_{y}\\right) \\left(b_{x} + i b_{y}\\right)\\end{matrix}\\right]$"
      ],
      "text/plain": [
       "Matrix([\n",
       "[(a_z + sqrt(a_x**2 + a_y**2 + a_z**2))*(b_z + sqrt(b_x**2 + b_y**2 + b_z**2)), (a_z + sqrt(a_x**2 + a_y**2 + a_z**2))*(b_z - sqrt(b_x**2 + b_y**2 + b_z**2)), (a_z - sqrt(a_x**2 + a_y**2 + a_z**2))*(b_z + sqrt(b_x**2 + b_y**2 + b_z**2)), (a_z - sqrt(a_x**2 + a_y**2 + a_z**2))*(b_z - sqrt(b_x**2 + b_y**2 + b_z**2))],\n",
       "[                         (a_z + sqrt(a_x**2 + a_y**2 + a_z**2))*(b_x + I*b_y),                          (a_z + sqrt(a_x**2 + a_y**2 + a_z**2))*(b_x + I*b_y),                          (a_z - sqrt(a_x**2 + a_y**2 + a_z**2))*(b_x + I*b_y),                          (a_z - sqrt(a_x**2 + a_y**2 + a_z**2))*(b_x + I*b_y)],\n",
       "[                         (a_x + I*a_y)*(b_z + sqrt(b_x**2 + b_y**2 + b_z**2)),                          (a_x + I*a_y)*(b_z - sqrt(b_x**2 + b_y**2 + b_z**2)),                          (a_x + I*a_y)*(b_z + sqrt(b_x**2 + b_y**2 + b_z**2)),                          (a_x + I*a_y)*(b_z - sqrt(b_x**2 + b_y**2 + b_z**2))],\n",
       "[                                                  (a_x + I*a_y)*(b_x + I*b_y),                                                   (a_x + I*a_y)*(b_x + I*b_y),                                                   (a_x + I*a_y)*(b_x + I*b_y),                                                   (a_x + I*a_y)*(b_x + I*b_y)]])"
      ]
     },
     "execution_count": 211,
     "metadata": {},
     "output_type": "execute_result"
    }
   ],
   "source": [
    "print('PA⊗PB')\n",
    "TensorProduct(PA, PB)"
   ]
  },
  {
   "cell_type": "markdown",
   "metadata": {},
   "source": [
    "Numerically check using sympy substitution"
   ]
  },
  {
   "cell_type": "code",
   "execution_count": 242,
   "metadata": {},
   "outputs": [],
   "source": [
    "#Taking the tensor product and multiply all the DA, DB, PA, PB\n",
    "AB_test = simplify(\n",
    "    TensorProduct(PA, PB) @ TensorProduct(DA, DB) @ TensorProduct(\n",
    "        PA.inv(), PB.inv()))"
   ]
  },
  {
   "cell_type": "code",
   "execution_count": 245,
   "metadata": {},
   "outputs": [
    {
     "name": "stdout",
     "output_type": "stream",
     "text": [
      "A⊗B: True\n"
     ]
    }
   ],
   "source": [
    "# Verify correctness\n",
    "print('A⊗B', end = ': ')\n",
    "print(expand(AB_test) == expand(TensorProduct(A, B)))"
   ]
  },
  {
   "cell_type": "markdown",
   "metadata": {},
   "source": [
    "### Computing the Matrix Exponential"
   ]
  },
  {
   "cell_type": "markdown",
   "metadata": {},
   "source": [
    "Now we compute the matrix exponential of the diagonal"
   ]
  },
  {
   "cell_type": "code",
   "execution_count": 246,
   "metadata": {},
   "outputs": [
    {
     "name": "stdout",
     "output_type": "stream",
     "text": [
      "exp(DA⊗DB)\n"
     ]
    },
    {
     "data": {
      "text/latex": [
       "$\\displaystyle \\left[\\begin{matrix}e^{- \\sqrt{a_{x}^{2} + a_{y}^{2} + a_{z}^{2}} \\sqrt{b_{x}^{2} + b_{y}^{2} + b_{z}^{2}}} & 0 & 0 & 0\\\\0 & e^{\\sqrt{a_{x}^{2} + a_{y}^{2} + a_{z}^{2}} \\sqrt{b_{x}^{2} + b_{y}^{2} + b_{z}^{2}}} & 0 & 0\\\\0 & 0 & e^{\\sqrt{a_{x}^{2} + a_{y}^{2} + a_{z}^{2}} \\sqrt{b_{x}^{2} + b_{y}^{2} + b_{z}^{2}}} & 0\\\\0 & 0 & 0 & e^{- \\sqrt{a_{x}^{2} + a_{y}^{2} + a_{z}^{2}} \\sqrt{b_{x}^{2} + b_{y}^{2} + b_{z}^{2}}}\\end{matrix}\\right]$"
      ],
      "text/plain": [
       "Matrix([\n",
       "[exp(-sqrt(a_x**2 + a_y**2 + a_z**2)*sqrt(b_x**2 + b_y**2 + b_z**2)),                                                                  0,                                                                  0,                                                                   0],\n",
       "[                                                                  0, exp(sqrt(a_x**2 + a_y**2 + a_z**2)*sqrt(b_x**2 + b_y**2 + b_z**2)),                                                                  0,                                                                   0],\n",
       "[                                                                  0,                                                                  0, exp(sqrt(a_x**2 + a_y**2 + a_z**2)*sqrt(b_x**2 + b_y**2 + b_z**2)),                                                                   0],\n",
       "[                                                                  0,                                                                  0,                                                                  0, exp(-sqrt(a_x**2 + a_y**2 + a_z**2)*sqrt(b_x**2 + b_y**2 + b_z**2))]])"
      ]
     },
     "execution_count": 246,
     "metadata": {},
     "output_type": "execute_result"
    }
   ],
   "source": [
    "print('exp(DA⊗DB)')\n",
    "exp(TensorProduct(DA, DB))"
   ]
  },
  {
   "cell_type": "markdown",
   "metadata": {},
   "source": [
    "Now we multiply with $PA, PB$ to get the matrix exponential $e^{A\\otimes B}$"
   ]
  },
  {
   "cell_type": "code",
   "execution_count": 249,
   "metadata": {},
   "outputs": [],
   "source": [
    "#Taking exponential of the tensor product and multiply all the DA, DB, PA, PB\n",
    "exp_AB_test = TensorProduct(PA, PB) @ exp(TensorProduct(DA, DB)) @ simplify(TensorProduct(\n",
    "        PA.inv(), PB.inv()))"
   ]
  },
  {
   "cell_type": "markdown",
   "metadata": {},
   "source": [
    "### This is very difficult to simplify so we are going to check numerically"
   ]
  },
  {
   "cell_type": "code",
   "execution_count": 255,
   "metadata": {
    "code_folding": [
     1
    ]
   },
   "outputs": [],
   "source": [
    "# This list binds the values to the variables\n",
    "values_to_variables = list(\n",
    "    zip([ax, ay, az, bx, by, bz],\n",
    "        np.random.rand(6) * 2 * np.pi))"
   ]
  },
  {
   "cell_type": "code",
   "execution_count": 257,
   "metadata": {},
   "outputs": [
    {
     "data": {
      "text/latex": [
       "$\\displaystyle \\left[\\begin{matrix}199976661316135.0 & -70719626751157.4 + 105171709928513.0 i & -202264659245637.0 + 8763247854046.08 i & -99765913140934.8 + 163206517141863.0 i\\\\-70719626751157.3 - 105171709928513.0 i & 468253370748130.0 & -113507631731248.0 - 153966302161172.0 i & 202264659245637.0 - 8763247854046.08 i\\\\-202264659245637.0 - 8763247854046.09 i & -113507631731248.0 + 153966302161172.0 i & 468253370748130.0 & 70719626751157.4 - 105171709928513.0 i\\\\-99765913140934.8 - 163206517141863.0 i & 202264659245637.0 + 8763247854046.08 i & 70719626751157.4 + 105171709928513.0 i & 199976661316135.0\\end{matrix}\\right]$"
      ],
      "text/plain": [
       "Matrix([\n",
       "[                      199976661316135.0,  -70719626751157.4 + 105171709928513.0*I,  -202264659245637.0 + 8763247854046.08*I, -99765913140934.8 + 163206517141863.0*I],\n",
       "[-70719626751157.3 - 105171709928513.0*I,                        468253370748130.0, -113507631731248.0 - 153966302161172.0*I,  202264659245637.0 - 8763247854046.08*I],\n",
       "[-202264659245637.0 - 8763247854046.09*I, -113507631731248.0 + 153966302161172.0*I,                        468253370748130.0,  70719626751157.4 - 105171709928513.0*I],\n",
       "[-99765913140934.8 - 163206517141863.0*I,   202264659245637.0 + 8763247854046.08*I,   70719626751157.4 + 105171709928513.0*I,                       199976661316135.0]])"
      ]
     },
     "execution_count": 257,
     "metadata": {},
     "output_type": "execute_result"
    }
   ],
   "source": [
    "simplify(exp_AB_test.subs(values_to_variables))"
   ]
  },
  {
   "cell_type": "code",
   "execution_count": 265,
   "metadata": {},
   "outputs": [],
   "source": [
    "AB_num = np.array(simplify(TensorProduct(A, B).subs(values_to_variables))).astype(np.complex128)"
   ]
  },
  {
   "cell_type": "code",
   "execution_count": 266,
   "metadata": {},
   "outputs": [
    {
     "data": {
      "text/plain": [
       "array([[ 1.99976661e+14+1.56250000e-02j, -7.07196268e+13+1.05171710e+14j,\n",
       "        -2.02264659e+14+8.76324785e+12j, -9.97659131e+13+1.63206517e+14j],\n",
       "       [-7.07196268e+13-1.05171710e+14j,  4.68253371e+14-1.95312500e-02j,\n",
       "        -1.13507632e+14-1.53966302e+14j,  2.02264659e+14-8.76324785e+12j],\n",
       "       [-2.02264659e+14-8.76324785e+12j, -1.13507632e+14+1.53966302e+14j,\n",
       "         4.68253371e+14-5.07812500e-02j,  7.07196268e+13-1.05171710e+14j],\n",
       "       [-9.97659131e+13-1.63206517e+14j,  2.02264659e+14+8.76324785e+12j,\n",
       "         7.07196268e+13+1.05171710e+14j,  1.99976661e+14+2.34375000e-02j]])"
      ]
     },
     "execution_count": 266,
     "metadata": {},
     "output_type": "execute_result"
    }
   ],
   "source": [
    "expm(AB_num)\n",
    "\n",
    "## Hmm this is too big so I don't think su(2) g).astype(np.float64)"
   ]
  }
 ],
 "metadata": {
  "kernelspec": {
   "display_name": "Python 3.10",
   "language": "python",
   "name": "python3.10"
  },
  "language_info": {
   "codemirror_mode": {
    "name": "ipython",
    "version": 3
   },
   "file_extension": ".py",
   "mimetype": "text/x-python",
   "name": "python",
   "nbconvert_exporter": "python",
   "pygments_lexer": "ipython3",
   "version": "3.10.4"
  }
 },
 "nbformat": 4,
 "nbformat_minor": 2
}
